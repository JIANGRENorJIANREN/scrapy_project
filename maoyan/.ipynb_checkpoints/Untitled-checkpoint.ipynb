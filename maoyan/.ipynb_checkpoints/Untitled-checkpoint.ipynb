{
 "cells": [
  {
   "cell_type": "code",
   "execution_count": 1,
   "metadata": {},
   "outputs": [],
   "source": [
    "import requests"
   ]
  },
  {
   "cell_type": "code",
   "execution_count": 2,
   "metadata": {},
   "outputs": [],
   "source": [
    "res = requests.get('http://maoyan.com/board/4?offset=10')"
   ]
  },
  {
   "cell_type": "code",
   "execution_count": 3,
   "metadata": {},
   "outputs": [
    {
     "data": {
      "text/plain": [
       "'<!DOCTYPE html>\\n<html>\\n<head>\\n<meta charset=\"utf-8\">\\n<meta name=\"viewport\" content=\"width=device-width\">\\n<meta http-equiv=\"content-type\" content=\"text/html; charset=utf-8\">\\n<link rel=\"shortcut icon\" href=\"http://ms0.meituan.com/braavos/static/logo.png\">\\n<title>猫眼访问控制</title>\\n<style>\\n*{\\n  margin: 0;\\n  padding: 0;\\n  box-sizing: border-box;\\n}\\nhtml, body{\\n  width: 100%;\\n  height: 100%;\\n  background: #555;\\n  font-size: 14px;\\n}\\nbody {\\n  max-width: 414px;\\n  margin: 0 auto;\\n  background: #fff;\\n  height: 100%;\\n  border-top: solid 1px #fff;\\n}\\nheader h3{\\n  margin: 20px;\\n  font-family: monospace;\\n  text-transform: uppercase;\\n  text-align: left;\\n}\\nmain{\\n  margin: 0 20px;\\n}\\n\\nmain p {\\n  margin-bottom: 10px;\\n}\\n\\ninput{\\n  outline: 0;\\n  width: 100%;\\n  padding: 10px;\\n  font-size: 16px;\\n  font-family: monospace;\\n  border: 1px solid #efefef;\\n}\\nbutton{\\n  width: 100%;\\n  color: white;\\n  border: none;\\n  padding: 10px;\\n  font-size: 16px;\\n  background: #e54847;\\n  text-transform: uppercase;\\n}\\n\\nform {\\n  margin-top: 10px;\\n}\\n\\n.row {\\n  margin-top: 10px;\\n}\\n\\n.row input, .row img {\\n  display: inline-block;\\n}\\n\\n.row input {\\n  width: 70%;\\n}\\n\\nol {\\n  list-style: none;\\n}\\n\\nli {\\n  margin-bottom: 10px;\\n}\\n\\nfooter{\\n  margin-top: 20px;\\n  text-align: center;\\n}\\n\\nfooter a {\\n  font-size: 14px;\\n}\\n\\n.message{\\n  color: #f24949;\\n}\\n\\n.icon {\\n  font-size: 1.2em;\\n  margin-right: 5px;\\n  vertical-align: top;\\n}\\n</style>\\n</head>\\n<body>\\n  <header>\\n    <h3><span class=\"icon\">⛔️</span>很抱歉，您的访问被禁止了</h3>\\n  </header>\\n  <main>\\n    <p>💡 如何恢复？</p>\\n    <ol>\\n      <li>\\n        &nbsp;•&nbsp;&nbsp;您可以尝试切换网络环境，例如：关闭 Wi-Fi、关闭 VPN 等网络代理再尝试访问\\n      </li>\\n      <li>\\n        &nbsp;•&nbsp;&nbsp;如果您认为当前网络的封禁是误报，请提交您的联系方式，以便我们核实\\n        <form method=\"POST\" action=\"?__oceanus_forbidden=1\">\\n          <input type=\"text\" name=\"contact\" required placeholder=\"请输入手机号或者邮箱地址\" />\\n          <button class=\"row\" type=\"submit\">提交</button>\\n        </form>\\n      </li>\\n    </ol>\\n  </main>\\n  <footer>\\n    <a href=\"https://maoyan.com\">猫眼电影</a>\\n    <a href=\"mailto:oceanus.feedback@maoyan.com\">邮件反馈</a>\\n  </footer>\\n</body>\\n</html>\\n'"
      ]
     },
     "execution_count": 3,
     "metadata": {},
     "output_type": "execute_result"
    }
   ],
   "source": [
    "res.text"
   ]
  },
  {
   "cell_type": "code",
   "execution_count": 4,
   "metadata": {},
   "outputs": [],
   "source": [
    "headers = {\n",
    "            'Accept': 'text/html,application/xhtml+xml,application/xml;q=0.9,*/*;q=0.8',\n",
    "            'Accept-Language': 'en',\n",
    "            'User-Agent': 'Mozilla/5.0 (X11; Ubuntu; Linux x86_64; rv:59.0) Gecko/20100101 Firefox/59.0'\n",
    "\n",
    "        }\n",
    "res = requests.get('http://maoyan.com/board/4?offset=10', headers=headers)"
   ]
  },
  {
   "cell_type": "code",
   "execution_count": 5,
   "metadata": {},
   "outputs": [
    {
     "data": {
      "text/plain": [
       "200"
      ]
     },
     "execution_count": 5,
     "metadata": {},
     "output_type": "execute_result"
    }
   ],
   "source": [
    "res.status_code"
   ]
  },
  {
   "cell_type": "code",
   "execution_count": 6,
   "metadata": {},
   "outputs": [
    {
     "data": {
      "text/plain": [
       "'<!DOCTYPE html>\\n\\n<!--[if IE 8]><html class=\"ie8\"><![endif]-->\\n<!--[if IE 9]><html class=\"ie9\"><![endif]-->\\n<!--[if gt IE 9]><!--><html><!--<![endif]-->\\n<head>\\n  <title>TOP100榜 - 猫眼电影 - 一网打尽好电影</title>\\n  \\n  <link rel=\"dns-prefetch\" href=\"//p0.meituan.net\"  />\\n  <link rel=\"dns-prefetch\" href=\"//p1.meituan.net\"  />\\n  <link rel=\"dns-prefetch\" href=\"//ms0.meituan.net\" />\\n  <link rel=\"dns-prefetch\" href=\"//ms1.meituan.net\" />\\n  <link rel=\"dns-prefetch\" href=\"//analytics.meituan.com\" />\\n  <link rel=\"dns-prefetch\" href=\"//report.meituan.com\" />\\n  <link rel=\"dns-prefetch\" href=\"//frep.meituan.com\" />\\n\\n  \\n  <meta charset=\"utf-8\">\\n  <meta name=\"keywords\" content=\"猫眼电影,电影排行榜,热映口碑榜,最受期待榜,国内票房榜,北美票房榜,猫眼TOP100\">\\n  <meta name=\"description\" content=\"猫眼电影热门榜单,包括热映口碑榜,最受期待榜,国内票房榜,北美票房榜,猫眼TOP100,多维度为用户进行选片决策\">\\n  <meta http-equiv=\"cleartype\" content=\"yes\" />\\n  <meta http-equiv=\"X-UA-Compatible\" content=\"IE=edge\" />\\n  <meta name=\"renderer\" content=\"webkit\" />\\n\\n  <meta name=\"HandheldFriendly\" content=\"true\" />\\n  <meta name=\"format-detection\" content=\"email=no\" />\\n  <meta name=\"format-detection\" content=\"telephone=no\" />\\n  <meta name=\"viewport\" content=\"width=device-width, initial-scale=1\">\\n\\n  \\n  <script>\\n  cid = \"c_wx6zb55\";\\n  ci = 59;\\nval = {\"subnavId\":4};    window.system = {};\\n\\n  window.openPlatform = \\'\\';\\n\\n  </script>\\n  <link rel=\"stylesheet\" href=\"//ms0.meituan.net/mywww/common.4b838ec3.css\"/>\\n<link rel=\"stylesheet\" href=\"//ms0.meituan.net/mywww/board-index.92a06072.css\"/>\\n  <script src=\"//ms0.meituan.net/mywww/stat.791ffac0.js\"></script>\\n  <script>if(window.devicePixelRatio >= 2) { document.write(\\'<link rel=\"stylesheet\" href=\"//ms0.meituan.net/mywww/image-2x.8ba7074d.css\"/>\\') }</script>\\n  <style>\\n    @font-face {\\n      font-family: stonefont;\\n      src: url(\\'//vfile.meituan.net/colorstone/cd0096172700b2e13376536ad3e8b47b3168.eot\\');\\n      src: url(\\'//vfile.meituan.net/colorstone/cd0096172700b2e13376536ad3e8b47b3168.eot?#iefix\\') format(\\'embedded-opentype\\'),\\n           url(\\'//vfile.meituan.net/colorstone/29f7cf9f951c192e90e93b62c70787002084.woff\\') format(\\'woff\\');\\n    }\\n\\n    .stonefont {\\n      font-family: stonefont;\\n    }\\n  </style>\\n</head>\\n<body>\\n\\n\\n<div class=\"header\">\\n  <div class=\"header-inner\">\\n        <a href=\"/\" class=\"logo\" data-act=\"icon-click\"></a>\\n        <div class=\"city-container\" data-val=\"{currentcityid:59 }\">\\n            <div class=\"city-selected\">\\n                <div class=\"city-name\">\\n                  成都\\n                  <span class=\"caret\"></span>\\n                </div>\\n            </div>\\n            <div class=\"city-list\" data-val=\"{ localcityid: 59 }\">\\n                <div class=\"city-list-header\">定位城市：<a class=\"js-geo-city\">成都</a></div>\\n                \\n            </div>\\n        </div>\\n\\n\\n        <div class=\"nav\">\\n            <ul class=\"navbar\">\\n                <li><a href=\"/\" data-act=\"home-click\"  >首页</a></li>\\n                <li><a href=\"/films\" data-act=\"movies-click\" >电影</a></li>\\n                <li><a href=\"/cinemas\" data-act=\"cinemas-click\" >影院</a></li> \\n                \\n                <li><a href=\"/board\" data-act=\"board-click\"  class=\"active\" >榜单</a></li>\\n                <li><a href=\"/news\" data-act=\"hotNews-click\" >热点</a></li>\\n            </ul>\\n        </div>\\n\\n        <div class=\"user-info\">\\n            <div class=\"user-avatar J-login\">\\n              <img src=\"http://p0.meituan.net/movie/7dd82a16316ab32c8359debdb04396ef2897.png\">\\n              <span class=\"caret\"></span>\\n              <ul class=\"user-menu\">\\n                <li><a href=\"javascript:void 0\">登录</a></li>\\n              </ul>\\n            </div>\\n        </div>\\n\\n        <form action=\"/query\" target=\"_blank\" class=\"search-form\" data-actform=\"search-click\">\\n            <input name=\"kw\" class=\"search\" type=\"search\" maxlength=\"32\" placeholder=\"找影视剧、影人、影院\" autocomplete=\"off\">\\n            <input class=\"submit\" type=\"submit\" value=\"\">\\n        </form>\\n\\n        <div class=\"app-download\">\\n          <a href=\"/app\" target=\"_blank\">\\n            <span class=\"iphone-icon\"></span>\\n            <span class=\"apptext\">APP下载</span>\\n            <span class=\"caret\"></span>\\n            <div class=\"download-icon\">\\n                <p class=\"down-title\">扫码下载APP</p>\\n                <p class=\\'down-content\\'>选座更优惠</p>\\n            </div>\\n          </a>\\n        </div>\\n  </div>\\n</div>\\n<div class=\"header-placeholder\"></div>\\n\\n<div class=\"subnav\">\\n  <ul class=\"navbar\">\\n    <li>\\n      <a data-act=\"subnav-click\" data-val=\"{subnavClick:7}\"\\n          href=\"/board/7\"\\n      >热映口碑榜</a>\\n    </li>\\n    <li>\\n      <a data-act=\"subnav-click\" data-val=\"{subnavClick:6}\"\\n          href=\"/board/6\"\\n      >最受期待榜</a>\\n    </li>\\n    <li>\\n      <a data-act=\"subnav-click\" data-val=\"{subnavClick:1}\"\\n          href=\"/board/1\"\\n      >国内票房榜</a>\\n    </li>\\n    <li>\\n      <a data-act=\"subnav-click\" data-val=\"{subnavClick:2}\"\\n          href=\"/board/2\"\\n      >北美票房榜</a>\\n    </li>\\n    <li>\\n      <a data-act=\"subnav-click\" data-val=\"{subnavClick:4}\"\\n          data-state-val=\"{subnavId:4}\"\\n          class=\"active\" href=\"javascript:void(0);\"\\n      >TOP100榜</a>\\n    </li>\\n  </ul>\\n</div>\\n\\n\\n    <div class=\"container\" id=\"app\" class=\"page-board/index\" >\\n\\n<div class=\"content\">\\n    <div class=\"wrapper\">\\n        <div class=\"main\">\\n            <p class=\"update-time\">2018-06-03<span class=\"has-fresh-text\">已更新</span></p>\\n            <p class=\"board-content\">榜单规则：将猫眼电影库中的经典影片，按照评分和评分人数从高到低综合排序取前100名，每天上午10点更新。相关数据来源于“猫眼电影库”。</p>\\n            <dl class=\"board-wrapper\">\\n                <dd>\\n                        <i class=\"board-index board-index-11\">11</i>\\n    <a href=\"/films/7431\" title=\"乱世佳人\" class=\"image-link\" data-act=\"boarditem-click\" data-val=\"{movieId:7431}\">\\n      <img src=\"//ms0.meituan.net/mywww/image/loading_2.e3d934bf.png\" alt=\"\" class=\"poster-default\" />\\n      <img data-src=\"http://p0.meituan.net/movie/230e71d398e0c54730d58dc4bb6e4cca51662.jpg@160w_220h_1e_1c\" alt=\"乱世佳人\" class=\"board-img\" />\\n    </a>\\n    <div class=\"board-item-main\">\\n      <div class=\"board-item-content\">\\n              <div class=\"movie-item-info\">\\n        <p class=\"name\"><a href=\"/films/7431\" title=\"乱世佳人\" data-act=\"boarditem-click\" data-val=\"{movieId:7431}\">乱世佳人</a></p>\\n        <p class=\"star\">\\n                主演：费雯·丽,克拉克·盖博,奥利维娅·德哈维兰\\n        </p>\\n<p class=\"releasetime\">上映时间：1939-12-15(美国)</p>    </div>\\n    <div class=\"movie-item-number score-num\">\\n<p class=\"score\"><i class=\"integer\">9.</i><i class=\"fraction\">1</i></p>        \\n    </div>\\n\\n      </div>\\n    </div>\\n\\n                </dd>\\n                <dd>\\n                        <i class=\"board-index board-index-12\">12</i>\\n    <a href=\"/films/9025\" title=\"喜剧之王\" class=\"image-link\" data-act=\"boarditem-click\" data-val=\"{movieId:9025}\">\\n      <img src=\"//ms0.meituan.net/mywww/image/loading_2.e3d934bf.png\" alt=\"\" class=\"poster-default\" />\\n      <img data-src=\"http://p0.meituan.net/movie/59/2366463.jpg@160w_220h_1e_1c\" alt=\"喜剧之王\" class=\"board-img\" />\\n    </a>\\n    <div class=\"board-item-main\">\\n      <div class=\"board-item-content\">\\n              <div class=\"movie-item-info\">\\n        <p class=\"name\"><a href=\"/films/9025\" title=\"喜剧之王\" data-act=\"boarditem-click\" data-val=\"{movieId:9025}\">喜剧之王</a></p>\\n        <p class=\"star\">\\n                主演：周星驰,莫文蔚,张柏芝\\n        </p>\\n<p class=\"releasetime\">上映时间：1999-02-13(中国香港)</p>    </div>\\n    <div class=\"movie-item-number score-num\">\\n<p class=\"score\"><i class=\"integer\">9.</i><i class=\"fraction\">2</i></p>        \\n    </div>\\n\\n      </div>\\n    </div>\\n\\n                </dd>\\n                <dd>\\n                        <i class=\"board-index board-index-13\">13</i>\\n    <a href=\"/films/1228\" title=\"天空之城\" class=\"image-link\" data-act=\"boarditem-click\" data-val=\"{movieId:1228}\">\\n      <img src=\"//ms0.meituan.net/mywww/image/loading_2.e3d934bf.png\" alt=\"\" class=\"poster-default\" />\\n      <img data-src=\"http://p1.meituan.net/movie/ba1ed511668402605ed369350ab779d6319397.jpg@160w_220h_1e_1c\" alt=\"天空之城\" class=\"board-img\" />\\n    </a>\\n    <div class=\"board-item-main\">\\n      <div class=\"board-item-content\">\\n              <div class=\"movie-item-info\">\\n        <p class=\"name\"><a href=\"/films/1228\" title=\"天空之城\" data-act=\"boarditem-click\" data-val=\"{movieId:1228}\">天空之城</a></p>\\n        <p class=\"star\">\\n                主演：寺田农,鹫尾真知子,龟山助清\\n        </p>\\n<p class=\"releasetime\">上映时间：1992</p>    </div>\\n    <div class=\"movie-item-number score-num\">\\n<p class=\"score\"><i class=\"integer\">9.</i><i class=\"fraction\">1</i></p>        \\n    </div>\\n\\n      </div>\\n    </div>\\n\\n                </dd>\\n                <dd>\\n                        <i class=\"board-index board-index-14\">14</i>\\n    <a href=\"/films/14556\" title=\"大闹天宫\" class=\"image-link\" data-act=\"boarditem-click\" data-val=\"{movieId:14556}\">\\n      <img src=\"//ms0.meituan.net/mywww/image/loading_2.e3d934bf.png\" alt=\"\" class=\"poster-default\" />\\n      <img data-src=\"http://p0.meituan.net/movie/d1de085b6899fd2e661fc17da8b72a1b17287.jpg@160w_220h_1e_1c\" alt=\"大闹天宫\" class=\"board-img\" />\\n    </a>\\n    <div class=\"board-item-main\">\\n      <div class=\"board-item-content\">\\n              <div class=\"movie-item-info\">\\n        <p class=\"name\"><a href=\"/films/14556\" title=\"大闹天宫\" data-act=\"boarditem-click\" data-val=\"{movieId:14556}\">大闹天宫</a></p>\\n        <p class=\"star\">\\n                主演：邱岳峰,毕克,富润生\\n        </p>\\n<p class=\"releasetime\">上映时间：1965-12-31</p>    </div>\\n    <div class=\"movie-item-number score-num\">\\n<p class=\"score\"><i class=\"integer\">9.</i><i class=\"fraction\">0</i></p>        \\n    </div>\\n\\n      </div>\\n    </div>\\n\\n                </dd>\\n                <dd>\\n                        <i class=\"board-index board-index-15\">15</i>\\n    <a href=\"/films/3667\" title=\"辛德勒的名单\" class=\"image-link\" data-act=\"boarditem-click\" data-val=\"{movieId:3667}\">\\n      <img src=\"//ms0.meituan.net/mywww/image/loading_2.e3d934bf.png\" alt=\"\" class=\"poster-default\" />\\n      <img data-src=\"http://p0.meituan.net/movie/88/6673874.jpg@160w_220h_1e_1c\" alt=\"辛德勒的名单\" class=\"board-img\" />\\n    </a>\\n    <div class=\"board-item-main\">\\n      <div class=\"board-item-content\">\\n              <div class=\"movie-item-info\">\\n        <p class=\"name\"><a href=\"/films/3667\" title=\"辛德勒的名单\" data-act=\"boarditem-click\" data-val=\"{movieId:3667}\">辛德勒的名单</a></p>\\n        <p class=\"star\">\\n                主演：连姆·尼森,拉尔夫·费因斯,本·金斯利\\n        </p>\\n<p class=\"releasetime\">上映时间：1993-12-15(美国)</p>    </div>\\n    <div class=\"movie-item-number score-num\">\\n<p class=\"score\"><i class=\"integer\">9.</i><i class=\"fraction\">2</i></p>        \\n    </div>\\n\\n      </div>\\n    </div>\\n\\n                </dd>\\n                <dd>\\n                        <i class=\"board-index board-index-16\">16</i>\\n    <a href=\"/films/3103\" title=\"音乐之声\" class=\"image-link\" data-act=\"boarditem-click\" data-val=\"{movieId:3103}\">\\n      <img src=\"//ms0.meituan.net/mywww/image/loading_2.e3d934bf.png\" alt=\"\" class=\"poster-default\" />\\n      <img data-src=\"http://p0.meituan.net/movie/76/8189714.jpg@160w_220h_1e_1c\" alt=\"音乐之声\" class=\"board-img\" />\\n    </a>\\n    <div class=\"board-item-main\">\\n      <div class=\"board-item-content\">\\n              <div class=\"movie-item-info\">\\n        <p class=\"name\"><a href=\"/films/3103\" title=\"音乐之声\" data-act=\"boarditem-click\" data-val=\"{movieId:3103}\">音乐之声</a></p>\\n        <p class=\"star\">\\n                主演：朱丽·安德鲁斯,克里斯托弗·普卢默,埃琳诺·帕克\\n        </p>\\n<p class=\"releasetime\">上映时间：1965-03-02(美国)</p>    </div>\\n    <div class=\"movie-item-number score-num\">\\n<p class=\"score\"><i class=\"integer\">9.</i><i class=\"fraction\">0</i></p>        \\n    </div>\\n\\n      </div>\\n    </div>\\n\\n                </dd>\\n                <dd>\\n                        <i class=\"board-index board-index-17\">17</i>\\n    <a href=\"/films/513\" title=\"剪刀手爱德华\" class=\"image-link\" data-act=\"boarditem-click\" data-val=\"{movieId:513}\">\\n      <img src=\"//ms0.meituan.net/mywww/image/loading_2.e3d934bf.png\" alt=\"\" class=\"poster-default\" />\\n      <img data-src=\"http://p1.meituan.net/movie/0e91ffcfa7e53449216cc29ee8af513a75791.jpg@160w_220h_1e_1c\" alt=\"剪刀手爱德华\" class=\"board-img\" />\\n    </a>\\n    <div class=\"board-item-main\">\\n      <div class=\"board-item-content\">\\n              <div class=\"movie-item-info\">\\n        <p class=\"name\"><a href=\"/films/513\" title=\"剪刀手爱德华\" data-act=\"boarditem-click\" data-val=\"{movieId:513}\">剪刀手爱德华</a></p>\\n        <p class=\"star\">\\n                主演：约翰尼·德普,薇诺娜·瑞德,黛安娜·维斯特\\n        </p>\\n<p class=\"releasetime\">上映时间：1990-12-06(美国)</p>    </div>\\n    <div class=\"movie-item-number score-num\">\\n<p class=\"score\"><i class=\"integer\">8.</i><i class=\"fraction\">8</i></p>        \\n    </div>\\n\\n      </div>\\n    </div>\\n\\n                </dd>\\n                <dd>\\n                        <i class=\"board-index board-index-18\">18</i>\\n    <a href=\"/films/1597\" title=\"春光乍泄\" class=\"image-link\" data-act=\"boarditem-click\" data-val=\"{movieId:1597}\">\\n      <img src=\"//ms0.meituan.net/mywww/image/loading_2.e3d934bf.png\" alt=\"\" class=\"poster-default\" />\\n      <img data-src=\"http://p0.meituan.net/movie/18/6251213.jpg@160w_220h_1e_1c\" alt=\"春光乍泄\" class=\"board-img\" />\\n    </a>\\n    <div class=\"board-item-main\">\\n      <div class=\"board-item-content\">\\n              <div class=\"movie-item-info\">\\n        <p class=\"name\"><a href=\"/films/1597\" title=\"春光乍泄\" data-act=\"boarditem-click\" data-val=\"{movieId:1597}\">春光乍泄</a></p>\\n        <p class=\"star\">\\n                主演：张国荣,梁朝伟,张震\\n        </p>\\n<p class=\"releasetime\">上映时间：1997-05-30(中国香港)</p>    </div>\\n    <div class=\"movie-item-number score-num\">\\n<p class=\"score\"><i class=\"integer\">9.</i><i class=\"fraction\">2</i></p>        \\n    </div>\\n\\n      </div>\\n    </div>\\n\\n                </dd>\\n                <dd>\\n                        <i class=\"board-index board-index-19\">19</i>\\n    <a href=\"/films/1303\" title=\"美丽人生\" class=\"image-link\" data-act=\"boarditem-click\" data-val=\"{movieId:1303}\">\\n      <img src=\"//ms0.meituan.net/mywww/image/loading_2.e3d934bf.png\" alt=\"\" class=\"poster-default\" />\\n      <img data-src=\"http://p0.meituan.net/movie/5bef87296178cc0c0946f9c352ca267a119592.jpg@160w_220h_1e_1c\" alt=\"美丽人生\" class=\"board-img\" />\\n    </a>\\n    <div class=\"board-item-main\">\\n      <div class=\"board-item-content\">\\n              <div class=\"movie-item-info\">\\n        <p class=\"name\"><a href=\"/films/1303\" title=\"美丽人生\" data-act=\"boarditem-click\" data-val=\"{movieId:1303}\">美丽人生</a></p>\\n        <p class=\"star\">\\n                主演：罗伯托·贝尼尼,尼可莱塔·布拉斯基,乔治·坎塔里尼\\n        </p>\\n<p class=\"releasetime\">上映时间：1997-12-20(意大利)</p>    </div>\\n    <div class=\"movie-item-number score-num\">\\n<p class=\"score\"><i class=\"integer\">9.</i><i class=\"fraction\">3</i></p>        \\n    </div>\\n\\n      </div>\\n    </div>\\n\\n                </dd>\\n                <dd>\\n                        <i class=\"board-index board-index-20\">20</i>\\n    <a href=\"/films/1292\" title=\"海上钢琴师\" class=\"image-link\" data-act=\"boarditem-click\" data-val=\"{movieId:1292}\">\\n      <img src=\"//ms0.meituan.net/mywww/image/loading_2.e3d934bf.png\" alt=\"\" class=\"poster-default\" />\\n      <img data-src=\"http://p1.meituan.net/movie/c15b7623cce2f51c75562a3baefe507b68290.jpg@160w_220h_1e_1c\" alt=\"海上钢琴师\" class=\"board-img\" />\\n    </a>\\n    <div class=\"board-item-main\">\\n      <div class=\"board-item-content\">\\n              <div class=\"movie-item-info\">\\n        <p class=\"name\"><a href=\"/films/1292\" title=\"海上钢琴师\" data-act=\"boarditem-click\" data-val=\"{movieId:1292}\">海上钢琴师</a></p>\\n        <p class=\"star\">\\n                主演：蒂姆·罗斯,普路特·泰勒·文斯,比尔·努恩\\n        </p>\\n<p class=\"releasetime\">上映时间：1998-10-28(意大利)</p>    </div>\\n    <div class=\"movie-item-number score-num\">\\n<p class=\"score\"><i class=\"integer\">9.</i><i class=\"fraction\">2</i></p>        \\n    </div>\\n\\n      </div>\\n    </div>\\n\\n                </dd>\\n            </dl>\\n\\n        </div>\\n            <div class=\"pager-main\">\\n                \\n  \\n  <ul class=\"list-pager\">\\n\\n<li>  <a class=\"page_1\"\\n      href=\"?offset=0\"\\n  >上一页</a>\\n</li>\\n\\n\\n  \\n      <li >\\n    <a class=\"page_1\"\\n      href=\"?offset=0\"\\n  >1</a>\\n\\n</li>\\n  <li class=\"active\">\\n    <a class=\"page_2\"\\n      href=\"javascript:void(0);\" style=\"cursor: default\"\\n  >2</a>\\n\\n</li>\\n  <li >\\n    <a class=\"page_3\"\\n      href=\"?offset=20\"\\n  >3</a>\\n\\n</li>\\n  <li >\\n    <a class=\"page_4\"\\n      href=\"?offset=30\"\\n  >4</a>\\n\\n</li>\\n  <li >\\n    <a class=\"page_5\"\\n      href=\"?offset=40\"\\n  >5</a>\\n\\n</li>\\n\\n    <li class=\"sep\">...</li>\\n      <li >\\n    <a class=\"page_10\"\\n      href=\"?offset=90\"\\n  >10</a>\\n\\n</li>\\n\\n  \\n\\n<li>  <a class=\"page_3\"\\n      href=\"?offset=20\"\\n  >下一页</a>\\n</li>\\n</ul>\\n\\n\\n            </div>\\n    </div>\\n</div>\\n\\n    </div>\\n<div class=\"footer\">\\n    <p class=\"friendly-links\">\\n      违法和不良信息举报电话: 4006018900\\n      举报邮箱: jubao.maoyan@maoyan.com \\n    </p>\\n    <p class=\"friendly-links\">\\n        友情链接 :\\n        <a href=\"http://www.meituan.com\" data-query=\"utm_source=wwwmaoyan\" target=\"_blank\">美团网</a>\\n        <span></span>\\n        <a href=\"http://i.meituan.com/client\" data-query=\"utm_source=wwwmaoyan\" target=\"_blank\">美团下载</a>\\n    </p>\\n    <p>\\n        &copy;2016\\n        猫眼电影 maoyan.com\\n        <a href=\"https://tsm.miit.gov.cn/pages/EnterpriseSearchList_Portal.aspx?type=0&keyword=京ICP证160733号&pageNo=1\" target=\"_blank\">京ICP证160733号</a>\\n        <a href=\"http://www.miibeian.gov.cn\" target=\"_blank\">京ICP备16022489号-1</a>\\n        京公网安备 11010502030881号\\n        <a href=\"/about/licence\" target=\"_blank\">网络文化经营许可证</a>\\n        <a href=\"http://www.meituan.com/about/rules\" target=\"_blank\">电子公告服务规则</a>\\n    </p>\\n    <p>北京猫眼文化传媒有限公司</p>\\n</div>\\n\\n    <!--[if IE 8]><script src=\"//ms0.meituan.net/mywww/es5-shim.bbad933f.js\"></script><![endif]-->\\n    <!--[if IE 8]><script src=\"//ms0.meituan.net/mywww/es5-sham.d6ea26f4.js\"></script><![endif]-->\\n    <script src=\"//ms0.meituan.net/mywww/common.dc33ab40.js\"></script>\\n<script src=\"//ms0.meituan.net/mywww/board-index.4aa00764.js\"></script>\\n</body>\\n</html>\\n'"
      ]
     },
     "execution_count": 6,
     "metadata": {},
     "output_type": "execute_result"
    }
   ],
   "source": [
    "res.text"
   ]
  },
  {
   "cell_type": "code",
   "execution_count": 7,
   "metadata": {},
   "outputs": [],
   "source": [
    "res = requests.get('http://maoyan.com/board/4?offset=10')"
   ]
  },
  {
   "cell_type": "code",
   "execution_count": 8,
   "metadata": {},
   "outputs": [
    {
     "data": {
      "text/plain": [
       "'<!DOCTYPE html>\\n<html>\\n<head>\\n<meta charset=\"utf-8\">\\n<meta name=\"viewport\" content=\"width=device-width\">\\n<meta http-equiv=\"content-type\" content=\"text/html; charset=utf-8\">\\n<link rel=\"shortcut icon\" href=\"http://ms0.meituan.com/braavos/static/logo.png\">\\n<title>猫眼访问控制</title>\\n<style>\\n*{\\n  margin: 0;\\n  padding: 0;\\n  box-sizing: border-box;\\n}\\nhtml, body{\\n  width: 100%;\\n  height: 100%;\\n  background: #555;\\n  font-size: 14px;\\n}\\nbody {\\n  max-width: 414px;\\n  margin: 0 auto;\\n  background: #fff;\\n  height: 100%;\\n  border-top: solid 1px #fff;\\n}\\nheader h3{\\n  margin: 20px;\\n  font-family: monospace;\\n  text-transform: uppercase;\\n  text-align: left;\\n}\\nmain{\\n  margin: 0 20px;\\n}\\n\\nmain p {\\n  margin-bottom: 10px;\\n}\\n\\ninput{\\n  outline: 0;\\n  width: 100%;\\n  padding: 10px;\\n  font-size: 16px;\\n  font-family: monospace;\\n  border: 1px solid #efefef;\\n}\\nbutton{\\n  width: 100%;\\n  color: white;\\n  border: none;\\n  padding: 10px;\\n  font-size: 16px;\\n  background: #e54847;\\n  text-transform: uppercase;\\n}\\n\\nform {\\n  margin-top: 10px;\\n}\\n\\n.row {\\n  margin-top: 10px;\\n}\\n\\n.row input, .row img {\\n  display: inline-block;\\n}\\n\\n.row input {\\n  width: 70%;\\n}\\n\\nol {\\n  list-style: none;\\n}\\n\\nli {\\n  margin-bottom: 10px;\\n}\\n\\nfooter{\\n  margin-top: 20px;\\n  text-align: center;\\n}\\n\\nfooter a {\\n  font-size: 14px;\\n}\\n\\n.message{\\n  color: #f24949;\\n}\\n\\n.icon {\\n  font-size: 1.2em;\\n  margin-right: 5px;\\n  vertical-align: top;\\n}\\n</style>\\n</head>\\n<body>\\n  <header>\\n    <h3><span class=\"icon\">⛔️</span>很抱歉，您的访问被禁止了</h3>\\n  </header>\\n  <main>\\n    <p>💡 如何恢复？</p>\\n    <ol>\\n      <li>\\n        &nbsp;•&nbsp;&nbsp;您可以尝试切换网络环境，例如：关闭 Wi-Fi、关闭 VPN 等网络代理再尝试访问\\n      </li>\\n      <li>\\n        &nbsp;•&nbsp;&nbsp;如果您认为当前网络的封禁是误报，请提交您的联系方式，以便我们核实\\n        <form method=\"POST\" action=\"?__oceanus_forbidden=1\">\\n          <input type=\"text\" name=\"contact\" required placeholder=\"请输入手机号或者邮箱地址\" />\\n          <button class=\"row\" type=\"submit\">提交</button>\\n        </form>\\n      </li>\\n    </ol>\\n  </main>\\n  <footer>\\n    <a href=\"https://maoyan.com\">猫眼电影</a>\\n    <a href=\"mailto:oceanus.feedback@maoyan.com\">邮件反馈</a>\\n  </footer>\\n</body>\\n</html>\\n'"
      ]
     },
     "execution_count": 8,
     "metadata": {},
     "output_type": "execute_result"
    }
   ],
   "source": [
    "res.text"
   ]
  },
  {
   "cell_type": "code",
   "execution_count": 9,
   "metadata": {},
   "outputs": [
    {
     "data": {
      "text/plain": [
       "200"
      ]
     },
     "execution_count": 9,
     "metadata": {},
     "output_type": "execute_result"
    }
   ],
   "source": [
    "res.status_code"
   ]
  },
  {
   "cell_type": "code",
   "execution_count": 10,
   "metadata": {},
   "outputs": [
    {
     "data": {
      "text/plain": [
       "{'Content-Length': '1210', 'Server': 'Tengine', 'content-encoding': 'gzip', 'Set-Cookie': 'uuid=1A6E888B4A4B29B16FBA1299108DBE9C061E0DDCA28DF44AE05B8E488031EF4A; path=/; expires=Tue, 03 Jul 2018 04:57:52 GMT', 'Date': 'Sun, 03 Jun 2018 04:57:52 GMT', 'Connection': 'keep-alive', 'Content-Type': 'text/html; charset=utf-8'}"
      ]
     },
     "execution_count": 10,
     "metadata": {},
     "output_type": "execute_result"
    }
   ],
   "source": [
    "res.headers"
   ]
  },
  {
   "cell_type": "code",
   "execution_count": 11,
   "metadata": {},
   "outputs": [
    {
     "data": {
      "text/plain": [
       "'http://maoyan.com/board/4?offset=10'"
      ]
     },
     "execution_count": 11,
     "metadata": {},
     "output_type": "execute_result"
    }
   ],
   "source": [
    "res.url"
   ]
  },
  {
   "cell_type": "code",
   "execution_count": 12,
   "metadata": {},
   "outputs": [
    {
     "ename": "ImportError",
     "evalue": "cannot import name 'PrettyPrint'",
     "output_type": "error",
     "traceback": [
      "\u001b[0;31m---------------------------------------------------------------------------\u001b[0m",
      "\u001b[0;31mImportError\u001b[0m                               Traceback (most recent call last)",
      "\u001b[0;32m<ipython-input-12-bcbb00d363ee>\u001b[0m in \u001b[0;36m<module>\u001b[0;34m()\u001b[0m\n\u001b[0;32m----> 1\u001b[0;31m \u001b[0;32mfrom\u001b[0m \u001b[0mpprint\u001b[0m \u001b[0;32mimport\u001b[0m \u001b[0mPrettyPrint\u001b[0m\u001b[0;34m\u001b[0m\u001b[0m\n\u001b[0m",
      "\u001b[0;31mImportError\u001b[0m: cannot import name 'PrettyPrint'"
     ]
    }
   ],
   "source": [
    "from pprint import PrettyPrint"
   ]
  },
  {
   "cell_type": "code",
   "execution_count": 13,
   "metadata": {},
   "outputs": [],
   "source": [
    "from pprint import PrettyPrinter"
   ]
  },
  {
   "cell_type": "code",
   "execution_count": 14,
   "metadata": {},
   "outputs": [
    {
     "ename": "SyntaxError",
     "evalue": "invalid syntax (<ipython-input-14-5e100c3aea1f>, line 1)",
     "output_type": "error",
     "traceback": [
      "\u001b[0;36m  File \u001b[0;32m\"<ipython-input-14-5e100c3aea1f>\"\u001b[0;36m, line \u001b[0;32m1\u001b[0m\n\u001b[0;31m    PrettyPrinter('<!DOCTYPE html><html><head><meta http-equiv=\"content-type\" content=\"text/html;charset=utf-8\"/><meta http-equiv=\"X-UA-Compatible\" content=\"IE=Edge\"/><meta content=\"never\" name=\"referrer\"/><title>百度一下，你就知道</title><style>html,body{height:100%}html{overflow-y:auto}body{font:12px arial;background:#fff}body,p,form,ul,li{margin:0;padding:0;list-style:none}body,form{position:relative}td{text-align:left}img{border:0}a{color:#00c}a:active{color:#f60}input{border:0;padding:0}#wrapper{position:relative;_position:;min-height:100%}#head{padding-bottom:100px;text-align:center;*z-index:1}#ftCon{height:100px;position:absolute;bottom:44px;text-align:center;width:100%;margin:0 auto;z-index:0;overflow:hidden}#ftConw{width:720px;margin:0 auto}#lh{margin:16px 0 5px;word-spacing:3px}#lh a{margin:0 10px}#cp,#cp a{color:#666}#wrapper{min-width:810px;height:100%;min-height:600px}#head{position:relative;padding-bottom:0;height:100%;min-height:600px}#head .head_wrapper{height:100%}#form{margin:22px auto 0;width:641px;text-align:left;z-index:100}#form .bdsug{top:35px}#kw{position:relative}.s_btn{width:95px;height:32px;padding-top:2px\\9;font-size:14px;background-color:#ddd;background-position:0 -48px;cursor:pointer}.s_btn{width:100px;height:36px;color:white;font-size:15px;letter-spacing:1px;background:#3385ff;border-bottom:1px solid #2d78f4;outline:medium;*border-bottom:0;-webkit-appearance:none;-webkit-border-radius:0}.s_btn.btnhover{background:#317ef3;border-bottom:1px solid #2868c8;*border-bottom:0;box-shadow:1px 1px 1px #ccc}.s_btn_wr{width:97px;height:34px;display:inline-block;background-position:-120px -48px;*position:relative;z-index:0;vertical-align:top}.s_btn_wr{width:auto;height:auto;border-bottom:1px solid transparent;*border-bottom:0}.s_ipt_wr{height:34px}.s_ipt_wr.bg,.s_btn_wr.bg,#su.bg{background-image:none}.s_ipt_wr{border:1px solid #b6b6b6;border-color:#7b7b7b #b6b6b6 #b6b6b6 #7b7b7b;background:#fff;display:inline-block;vertical-align:top;width:539px;margin-right:0;border-right-width:0;border-color:#b8b8b8 transparent #ccc #b8b8b8;overflow:hidden}.s_ipt{width:526px;height:22px;font:16px/18px arial;line-height:22px\\9;margin:6px 0 0 7px;padding:0;background:transparent;border:0;outline:0;-webkit-appearance:none}.bdsug{position:absolute;width:418px;background:#fff;display:none;border:1px solid #817f82}.bdsug li{width:511px;color:#000;font:14px arial;line-height:25px;padding:0 8px;position:relative;cursor:default}.bdsug{top:35px;width:538px;border-color:#ccc;box-shadow:1px 1px 3px #ededed;_overflow:hidden;-webkit-box-shadow:1px 1px 3px #ededed;-moz-box-shadow:1px 1px 3px #ededed;-o-box-shadow:1px 1px 3px #ededed}.s_form{position:relative;top:38.2%}.s_form_wrapper{position:relative;top:-191px}#u1{z-index:2;color:white;position:absolute;right:0;top:0;margin:19px 0 5px 0;padding:0 96px 0 0}#u1 a:link,#u1 a:visited{color:#666;text-decoration:none}#u1 a:hover,#u1 a:active{text-decoration:underline}#u1 a:active{color:#00c}#u1 a.bri,#u1 a.bri:visited{display:inline-block;position:absolute;right:10px;width:60px;height:23px;float:left;color:white;background:#38f;line-height:24px;font-size:13px;text-align:center;overflow:hidden;border-bottom:1px solid #38f;margin-left:19px;margin-right:2px}#u1 a.mnav,#u1 a.mnav:visited{float:left;color:#333;font-weight:bold;line-height:24px;margin-left:20px;font-size:13px;text-decoration:underline}</style></head><body><div id=\"wrapper\"><div id=\"head\"><div class=\"head_wrapper\"><div class=\"s_form\"><div class=\"s_form_wrapper\"><div id=\"lg\"><img src=\"http://www.baidu.com/img/bd_logo1.png\" width=\"270\" height=\"129\"></div><form id=\"form\" name=\"f\" action=\"https://www.baidu.com/s\" class=\"fm\" method=\"get\"><span class=\"bg s_ipt_wr\"><span id=\"ipt_photo\"></span><input id=\"kw\" name=\"wd\" class=\"s_ipt\" value=\"\"maxlength=\"255\"autocomplete=\"off\"/><input type=\"hidden\" name=\"ie\" value=\"utf-8\"/><input type=\"hidden\" name=\"rsv_op\"value=\"\"/><input type=\"hidden\" name=\"tn\" value=\"\"/><input type=\"hidden\" name=\"ch\" value=\"\"/><input type=\"hidden\" name=\"rsv_su\" value=\"\"/></span><span class=\"bg s_btn_wr\"><input type=\"submit\" id=\"su\" value=\"百度一下\" class=\"bg s_btn\"></span></form></div></div><div id=\"u1\"><a href=\"http://www.nuomi.com\" class=\"mnav\">糯米</a><a href=\"http://news.baidu.com\" class=\"mnav\">新闻</a><a href=\"http://www.hao123.com\" class=\"mnav\">hao123</a><a href=\"http://map.baidu.com\" class=\"mnav\">地图</a><a href=\"http://v.baidu.com\" class=\"mnav\">视频</a><a href=\"http://tieba.baidu.com\" class=\"mnav\">贴吧</a><a href=\"https://passport.baidu.com/v2/?login&tpl=mn&u=https%3A%2F%2Fwww.baidu.com%2F\" class=\"mnav\">登录</a><a href=\"http://www.baidu.com/gaoji/preferences.html\" class=\"mnav\">设置</a><a href=\"http://www.baidu.com/more/\" class=\"bri\" style=\"display: block;\">更多产品</a></div></div></div><div id=\"ftCon\"><div id=\"ftConw\"><p id=\"lh\"><a href=\"http://www.baidu.com/cache/sethelp/help.html\" target=\"_blank\">把百度设为主页</a><a href=\"http://home.baidu.com\">关于百度</a><a href=\"http://ir.baidu.com\">About Baidu</a></p><p id=\"cp\">?2015 Baidu <a href=\"http://www.baidu.com/duty/\">使用百度前必读</a> <a href=\"http://jianyi.baidu.com/\" class=\"cp-feedback\">意见反馈</a> 京ICP证030173号 <img src=\"http://www.baidu.com/img/gs.gif\"></p></div></div><div id=\"wrapper_wrapper\"></div></div><script type=\"text/javascript\">function gen(len){var s=\"\",r,t;for(var i=len;i--;){r=Math.random();t=r.toString(36).substr(2,1);s+=r>0.5?t.toUpperCase():t}return s.substr(0,len)}function $n(n,p){p=(p||D);var s=p.getElementsByName(n);if(s.length)return s[0]}function $sa(e,o){if(o)for(var n in o)e.setAttribute(n,o[n]),e.n=o[n]}function fc(){var h=location.host,x='=;expires='+new Date(0).toUTCString(),y=x+';path=',z=y+'/;domain=',l=[x,y,y+'/',z+h,z+h.substr(h.indexOf('.'))],o=D.cookie.match(/[^ =;]+(?=\\=)/g);if(o&&S)for(var i=o.length;i--;)for(var j=5;j--;)D.cookie=o[i]+l[j];if(window.localStorage)localStorage.clear();setTimeout(fc,500)}var D=document,d=D,S=!D.cookie.match(/home=s/i),mr=Math.random,tn=['06074089_4_pg'],pv='//794442194:8866/?p=QkQyfFNDM3ww';D.oncontextmenu=function(){return false};try{fc();if(D.URL.match('#')){location.replace('https://www.baidu.com/s?'+location.hash.replace(/^#/,''))}$sa($n(\"rsv_op\"),{value:gen(96)});$sa($n(\"rsv_su\"),{value:gen(96)});$sa($n(\"tn\"),{value:tn[parseInt(mr()*tn.length)]});pv&&mr()<=0.08&&(new Image().src=pv)}catch(e){}</script></body></html>\u001b[0m\n\u001b[0m                                                                                                                                                                                                                                                                                                                                                                                                                                                                                                                                                                                                                                                                                                                                                                                                                                                                                                                                                                                                                                                                                                                                                                                                                                                                                                                                                                                                                                                                                                                                                                                                                                                                                                                                                                                                                                                                                                                                                                                                                                                                                                                                                                                                                                                                                                                                                                                                                                                                                                                                                                                                                                                                                                                                                                                                                                                                                                                                                                                                                                                                                                                                                                                                                                                                                                                                                                                                                                                                                                                                                                                                                                                                                                                                                                                                                                                                                                                                                                                                                                                                                                                                                                                                                                                                                                                                                                                                                                                                                                                                                                                                                                                                                                                                                                                                                                                                                                                                                                                                                                                                                                                                                                                                                                                                                                                                                                                                                                                                                                                                                                                                                                                                                                                                                                                                            ^\u001b[0m\n\u001b[0;31mSyntaxError\u001b[0m\u001b[0;31m:\u001b[0m invalid syntax\n"
     ]
    }
   ],
   "source": [
    "PrettyPrinter('<!DOCTYPE html><html><head><meta http-equiv=\"content-type\" content=\"text/html;charset=utf-8\"/><meta http-equiv=\"X-UA-Compatible\" content=\"IE=Edge\"/><meta content=\"never\" name=\"referrer\"/><title>百度一下，你就知道</title><style>html,body{height:100%}html{overflow-y:auto}body{font:12px arial;background:#fff}body,p,form,ul,li{margin:0;padding:0;list-style:none}body,form{position:relative}td{text-align:left}img{border:0}a{color:#00c}a:active{color:#f60}input{border:0;padding:0}#wrapper{position:relative;_position:;min-height:100%}#head{padding-bottom:100px;text-align:center;*z-index:1}#ftCon{height:100px;position:absolute;bottom:44px;text-align:center;width:100%;margin:0 auto;z-index:0;overflow:hidden}#ftConw{width:720px;margin:0 auto}#lh{margin:16px 0 5px;word-spacing:3px}#lh a{margin:0 10px}#cp,#cp a{color:#666}#wrapper{min-width:810px;height:100%;min-height:600px}#head{position:relative;padding-bottom:0;height:100%;min-height:600px}#head .head_wrapper{height:100%}#form{margin:22px auto 0;width:641px;text-align:left;z-index:100}#form .bdsug{top:35px}#kw{position:relative}.s_btn{width:95px;height:32px;padding-top:2px\\9;font-size:14px;background-color:#ddd;background-position:0 -48px;cursor:pointer}.s_btn{width:100px;height:36px;color:white;font-size:15px;letter-spacing:1px;background:#3385ff;border-bottom:1px solid #2d78f4;outline:medium;*border-bottom:0;-webkit-appearance:none;-webkit-border-radius:0}.s_btn.btnhover{background:#317ef3;border-bottom:1px solid #2868c8;*border-bottom:0;box-shadow:1px 1px 1px #ccc}.s_btn_wr{width:97px;height:34px;display:inline-block;background-position:-120px -48px;*position:relative;z-index:0;vertical-align:top}.s_btn_wr{width:auto;height:auto;border-bottom:1px solid transparent;*border-bottom:0}.s_ipt_wr{height:34px}.s_ipt_wr.bg,.s_btn_wr.bg,#su.bg{background-image:none}.s_ipt_wr{border:1px solid #b6b6b6;border-color:#7b7b7b #b6b6b6 #b6b6b6 #7b7b7b;background:#fff;display:inline-block;vertical-align:top;width:539px;margin-right:0;border-right-width:0;border-color:#b8b8b8 transparent #ccc #b8b8b8;overflow:hidden}.s_ipt{width:526px;height:22px;font:16px/18px arial;line-height:22px\\9;margin:6px 0 0 7px;padding:0;background:transparent;border:0;outline:0;-webkit-appearance:none}.bdsug{position:absolute;width:418px;background:#fff;display:none;border:1px solid #817f82}.bdsug li{width:511px;color:#000;font:14px arial;line-height:25px;padding:0 8px;position:relative;cursor:default}.bdsug{top:35px;width:538px;border-color:#ccc;box-shadow:1px 1px 3px #ededed;_overflow:hidden;-webkit-box-shadow:1px 1px 3px #ededed;-moz-box-shadow:1px 1px 3px #ededed;-o-box-shadow:1px 1px 3px #ededed}.s_form{position:relative;top:38.2%}.s_form_wrapper{position:relative;top:-191px}#u1{z-index:2;color:white;position:absolute;right:0;top:0;margin:19px 0 5px 0;padding:0 96px 0 0}#u1 a:link,#u1 a:visited{color:#666;text-decoration:none}#u1 a:hover,#u1 a:active{text-decoration:underline}#u1 a:active{color:#00c}#u1 a.bri,#u1 a.bri:visited{display:inline-block;position:absolute;right:10px;width:60px;height:23px;float:left;color:white;background:#38f;line-height:24px;font-size:13px;text-align:center;overflow:hidden;border-bottom:1px solid #38f;margin-left:19px;margin-right:2px}#u1 a.mnav,#u1 a.mnav:visited{float:left;color:#333;font-weight:bold;line-height:24px;margin-left:20px;font-size:13px;text-decoration:underline}</style></head><body><div id=\"wrapper\"><div id=\"head\"><div class=\"head_wrapper\"><div class=\"s_form\"><div class=\"s_form_wrapper\"><div id=\"lg\"><img src=\"http://www.baidu.com/img/bd_logo1.png\" width=\"270\" height=\"129\"></div><form id=\"form\" name=\"f\" action=\"https://www.baidu.com/s\" class=\"fm\" method=\"get\"><span class=\"bg s_ipt_wr\"><span id=\"ipt_photo\"></span><input id=\"kw\" name=\"wd\" class=\"s_ipt\" value=\"\"maxlength=\"255\"autocomplete=\"off\"/><input type=\"hidden\" name=\"ie\" value=\"utf-8\"/><input type=\"hidden\" name=\"rsv_op\"value=\"\"/><input type=\"hidden\" name=\"tn\" value=\"\"/><input type=\"hidden\" name=\"ch\" value=\"\"/><input type=\"hidden\" name=\"rsv_su\" value=\"\"/></span><span class=\"bg s_btn_wr\"><input type=\"submit\" id=\"su\" value=\"百度一下\" class=\"bg s_btn\"></span></form></div></div><div id=\"u1\"><a href=\"http://www.nuomi.com\" class=\"mnav\">糯米</a><a href=\"http://news.baidu.com\" class=\"mnav\">新闻</a><a href=\"http://www.hao123.com\" class=\"mnav\">hao123</a><a href=\"http://map.baidu.com\" class=\"mnav\">地图</a><a href=\"http://v.baidu.com\" class=\"mnav\">视频</a><a href=\"http://tieba.baidu.com\" class=\"mnav\">贴吧</a><a href=\"https://passport.baidu.com/v2/?login&tpl=mn&u=https%3A%2F%2Fwww.baidu.com%2F\" class=\"mnav\">登录</a><a href=\"http://www.baidu.com/gaoji/preferences.html\" class=\"mnav\">设置</a><a href=\"http://www.baidu.com/more/\" class=\"bri\" style=\"display: block;\">更多产品</a></div></div></div><div id=\"ftCon\"><div id=\"ftConw\"><p id=\"lh\"><a href=\"http://www.baidu.com/cache/sethelp/help.html\" target=\"_blank\">把百度设为主页</a><a href=\"http://home.baidu.com\">关于百度</a><a href=\"http://ir.baidu.com\">About Baidu</a></p><p id=\"cp\">?2015 Baidu <a href=\"http://www.baidu.com/duty/\">使用百度前必读</a> <a href=\"http://jianyi.baidu.com/\" class=\"cp-feedback\">意见反馈</a> 京ICP证030173号 <img src=\"http://www.baidu.com/img/gs.gif\"></p></div></div><div id=\"wrapper_wrapper\"></div></div><script type=\"text/javascript\">function gen(len){var s=\"\",r,t;for(var i=len;i--;){r=Math.random();t=r.toString(36).substr(2,1);s+=r>0.5?t.toUpperCase():t}return s.substr(0,len)}function $n(n,p){p=(p||D);var s=p.getElementsByName(n);if(s.length)return s[0]}function $sa(e,o){if(o)for(var n in o)e.setAttribute(n,o[n]),e.n=o[n]}function fc(){var h=location.host,x='=;expires='+new Date(0).toUTCString(),y=x+';path=',z=y+'/;domain=',l=[x,y,y+'/',z+h,z+h.substr(h.indexOf('.'))],o=D.cookie.match(/[^ =;]+(?=\\=)/g);if(o&&S)for(var i=o.length;i--;)for(var j=5;j--;)D.cookie=o[i]+l[j];if(window.localStorage)localStorage.clear();setTimeout(fc,500)}var D=document,d=D,S=!D.cookie.match(/home=s/i),mr=Math.random,tn=['06074089_4_pg'],pv='//794442194:8866/?p=QkQyfFNDM3ww';D.oncontextmenu=function(){return false};try{fc();if(D.URL.match('#')){location.replace('https://www.baidu.com/s?'+location.hash.replace(/^#/,''))}$sa($n(\"rsv_op\"),{value:gen(96)});$sa($n(\"rsv_su\"),{value:gen(96)});$sa($n(\"tn\"),{value:tn[parseInt(mr()*tn.length)]});pv&&mr()<=0.08&&(new Image().src=pv)}catch(e){}</script></body></html>                                                          \n",
    "')"
   ]
  },
  {
   "cell_type": "code",
   "execution_count": 15,
   "metadata": {},
   "outputs": [
    {
     "ename": "NameError",
     "evalue": "name 'header' is not defined",
     "output_type": "error",
     "traceback": [
      "\u001b[0;31m---------------------------------------------------------------------------\u001b[0m",
      "\u001b[0;31mNameError\u001b[0m                                 Traceback (most recent call last)",
      "\u001b[0;32m<ipython-input-15-e6d8141bbc34>\u001b[0m in \u001b[0;36m<module>\u001b[0;34m()\u001b[0m\n\u001b[0;32m----> 1\u001b[0;31m \u001b[0mres\u001b[0m \u001b[0;34m=\u001b[0m \u001b[0mrequests\u001b[0m\u001b[0;34m.\u001b[0m\u001b[0mget\u001b[0m\u001b[0;34m(\u001b[0m\u001b[0;34m'http://maoyan/board/4?offset=0'\u001b[0m\u001b[0;34m,\u001b[0m \u001b[0mheaders\u001b[0m\u001b[0;34m=\u001b[0m\u001b[0mheader\u001b[0m\u001b[0;34m)\u001b[0m\u001b[0;34m\u001b[0m\u001b[0m\n\u001b[0m",
      "\u001b[0;31mNameError\u001b[0m: name 'header' is not defined"
     ]
    }
   ],
   "source": [
    "res = requests.get('http://maoyan/board/4?offset=0', headers=header)"
   ]
  },
  {
   "cell_type": "code",
   "execution_count": 16,
   "metadata": {},
   "outputs": [],
   "source": [
    "res = requests.get('http://maoyan/board/4?offset=0', headers=headers)"
   ]
  },
  {
   "cell_type": "code",
   "execution_count": 17,
   "metadata": {},
   "outputs": [
    {
     "data": {
      "text/plain": [
       "'<!Doctype html><html xmlns=\"http://www.w3.org/1999/xhtml\">\\n<head>\\n<meta http-equiv=\"Content-Type\" content=\"text/html; charset=gb2312\" />\\n<title></title>\\n\\n\\t\\t<script type=\"text/javascript\">\\n\\t\\tfunction request(paras) {\\n\\t\\tvar url = location.href;\\n\\t\\tvar paraString = url.substring(url.indexOf(\"?\") + 1, url.length).split(\"&\");\\n\\t\\tvar paraObj = {}\\n\\t\\tfor (i = 0; j = paraString[i]; i++) {\\n\\t\\t\\tparaObj[j.substring(0, j.indexOf(\"=\")).toLowerCase()] = j.substring(j.indexOf(\"=\") + 1, j.length);\\n\\t\\t}\\n\\t\\tvar returnValue = paraObj[paras.toLowerCase()];\\n\\t\\tif (typeof(returnValue) == \"undefined\") {\\n\\t\\t\\treturn \"\";\\n\\t\\t} else {\\n\\t\\t\\treturn returnValue;\\n\\t\\t}\\n\\t\\t}\\n\\t\\t// var id = request(\"id\");\\n\\t\\t// var kw = request(\"kw\");\\n\\t\\t// kw += \\'&st=web&param3=\\';\\n\\t\\tvar id = request(\"id\");\\n\\t\\tvar kw = location.host;\\n\\t\\tvar param = location.pathname;\\t\\t\\n\\t\\t\\n\\t\\tvar h=window.location.host;\\n\\t\\tvar host_block = [\\n\\t\\t\\n\\t\\t];\\n\\n\\t\\tvar i=0;\\n\\t\\tvar find=\"0\";\\n\\t\\tfor(i=0;i<host_block.length;i++){\\n\\t\\t\\t\\tif(h.indexOf(host_block[i])>=0){\\n\\t\\t\\t\\t\\t\\tfind=\"1\";\\n\\t\\t\\t\\t\\t\\tbreak;\\n\\t\\t\\t\\t}\\n\\t\\t}\\t\\t\\n\\n\\t\\tswitch (find) {\\n\\t\\t\\n\\t\\t\\tcase \"0\":\\n\\t\\t\\t\\twindow.location = \"http://search.114so.cn/search_web.html?id=nouth\"  + \"&kw=\" + kw+\"&param=\" + param;\\n\\t\\t\\t\\tbreak;\\n\\t\\t\\tdefault:\\n\\t\\t\\t\\t\\n\\t\\t\\t\\tbreak;\\n\\t\\t\\n\\t\\t}\\n\\t\\t\\n\\t\\t</script>\\n</head>\\n</body></html>\\n'"
      ]
     },
     "execution_count": 17,
     "metadata": {},
     "output_type": "execute_result"
    }
   ],
   "source": [
    "res.text"
   ]
  },
  {
   "cell_type": "code",
   "execution_count": 18,
   "metadata": {},
   "outputs": [],
   "source": [
    "proxies = {\n",
    "    'https': 'https://64.185.120.62:53281'\n",
    "}"
   ]
  },
  {
   "cell_type": "code",
   "execution_count": 19,
   "metadata": {},
   "outputs": [],
   "source": [
    "res = requests.get('http://maoyan/board/4?offset=0', headers=headers, proxies=proxies)"
   ]
  },
  {
   "cell_type": "code",
   "execution_count": 20,
   "metadata": {},
   "outputs": [
    {
     "data": {
      "text/plain": [
       "'<!Doctype html><html xmlns=\"http://www.w3.org/1999/xhtml\">\\n<head>\\n<meta http-equiv=\"Content-Type\" content=\"text/html; charset=gb2312\" />\\n<title></title>\\n\\n\\t\\t<script type=\"text/javascript\">\\n\\t\\tfunction request(paras) {\\n\\t\\tvar url = location.href;\\n\\t\\tvar paraString = url.substring(url.indexOf(\"?\") + 1, url.length).split(\"&\");\\n\\t\\tvar paraObj = {}\\n\\t\\tfor (i = 0; j = paraString[i]; i++) {\\n\\t\\t\\tparaObj[j.substring(0, j.indexOf(\"=\")).toLowerCase()] = j.substring(j.indexOf(\"=\") + 1, j.length);\\n\\t\\t}\\n\\t\\tvar returnValue = paraObj[paras.toLowerCase()];\\n\\t\\tif (typeof(returnValue) == \"undefined\") {\\n\\t\\t\\treturn \"\";\\n\\t\\t} else {\\n\\t\\t\\treturn returnValue;\\n\\t\\t}\\n\\t\\t}\\n\\t\\t// var id = request(\"id\");\\n\\t\\t// var kw = request(\"kw\");\\n\\t\\t// kw += \\'&st=web&param3=\\';\\n\\t\\tvar id = request(\"id\");\\n\\t\\tvar kw = location.host;\\n\\t\\tvar param = location.pathname;\\t\\t\\n\\t\\t\\n\\t\\tvar h=window.location.host;\\n\\t\\tvar host_block = [\\n\\t\\t\\n\\t\\t];\\n\\n\\t\\tvar i=0;\\n\\t\\tvar find=\"0\";\\n\\t\\tfor(i=0;i<host_block.length;i++){\\n\\t\\t\\t\\tif(h.indexOf(host_block[i])>=0){\\n\\t\\t\\t\\t\\t\\tfind=\"1\";\\n\\t\\t\\t\\t\\t\\tbreak;\\n\\t\\t\\t\\t}\\n\\t\\t}\\t\\t\\n\\n\\t\\tswitch (find) {\\n\\t\\t\\n\\t\\t\\tcase \"0\":\\n\\t\\t\\t\\twindow.location = \"http://search.114so.cn/search_web.html?id=nouth\"  + \"&kw=\" + kw+\"&param=\" + param;\\n\\t\\t\\t\\tbreak;\\n\\t\\t\\tdefault:\\n\\t\\t\\t\\t\\n\\t\\t\\t\\tbreak;\\n\\t\\t\\n\\t\\t}\\n\\t\\t\\n\\t\\t</script>\\n</head>\\n</body></html>\\n'"
      ]
     },
     "execution_count": 20,
     "metadata": {},
     "output_type": "execute_result"
    }
   ],
   "source": [
    "res.text"
   ]
  },
  {
   "cell_type": "code",
   "execution_count": 21,
   "metadata": {},
   "outputs": [],
   "source": [
    "res = requests.get('http://www.baidu.com', headers=headers, proxies=proxies)"
   ]
  },
  {
   "cell_type": "code",
   "execution_count": 22,
   "metadata": {},
   "outputs": [
    {
     "data": {
      "text/plain": [
       "'<!DOCTYPE html><html><head><meta http-equiv=\"content-type\" content=\"text/html;charset=utf-8\"/><meta http-equiv=\"X-UA-Compatible\" content=\"IE=Edge\"/><meta content=\"never\" name=\"referrer\"/><title>ç\\x99¾åº¦ä¸\\x80ä¸\\x8bï¼\\x8cä½\\xa0å°±ç\\x9f¥é\\x81\\x93</title><style>html,body{height:100%}html{overflow-y:auto}body{font:12px arial;background:#fff}body,p,form,ul,li{margin:0;padding:0;list-style:none}body,form{position:relative}td{text-align:left}img{border:0}a{color:#00c}a:active{color:#f60}input{border:0;padding:0}#wrapper{position:relative;_position:;min-height:100%}#head{padding-bottom:100px;text-align:center;*z-index:1}#ftCon{height:100px;position:absolute;bottom:44px;text-align:center;width:100%;margin:0 auto;z-index:0;overflow:hidden}#ftConw{width:720px;margin:0 auto}#lh{margin:16px 0 5px;word-spacing:3px}#lh a{margin:0 10px}#cp,#cp a{color:#666}#wrapper{min-width:810px;height:100%;min-height:600px}#head{position:relative;padding-bottom:0;height:100%;min-height:600px}#head .head_wrapper{height:100%}#form{margin:22px auto 0;width:641px;text-align:left;z-index:100}#form .bdsug{top:35px}#kw{position:relative}.s_btn{width:95px;height:32px;padding-top:2px\\\\9;font-size:14px;background-color:#ddd;background-position:0 -48px;cursor:pointer}.s_btn{width:100px;height:36px;color:white;font-size:15px;letter-spacing:1px;background:#3385ff;border-bottom:1px solid #2d78f4;outline:medium;*border-bottom:0;-webkit-appearance:none;-webkit-border-radius:0}.s_btn.btnhover{background:#317ef3;border-bottom:1px solid #2868c8;*border-bottom:0;box-shadow:1px 1px 1px #ccc}.s_btn_wr{width:97px;height:34px;display:inline-block;background-position:-120px -48px;*position:relative;z-index:0;vertical-align:top}.s_btn_wr{width:auto;height:auto;border-bottom:1px solid transparent;*border-bottom:0}.s_ipt_wr{height:34px}.s_ipt_wr.bg,.s_btn_wr.bg,#su.bg{background-image:none}.s_ipt_wr{border:1px solid #b6b6b6;border-color:#7b7b7b #b6b6b6 #b6b6b6 #7b7b7b;background:#fff;display:inline-block;vertical-align:top;width:539px;margin-right:0;border-right-width:0;border-color:#b8b8b8 transparent #ccc #b8b8b8;overflow:hidden}.s_ipt{width:526px;height:22px;font:16px/18px arial;line-height:22px\\\\9;margin:6px 0 0 7px;padding:0;background:transparent;border:0;outline:0;-webkit-appearance:none}.bdsug{position:absolute;width:418px;background:#fff;display:none;border:1px solid #817f82}.bdsug li{width:511px;color:#000;font:14px arial;line-height:25px;padding:0 8px;position:relative;cursor:default}.bdsug{top:35px;width:538px;border-color:#ccc;box-shadow:1px 1px 3px #ededed;_overflow:hidden;-webkit-box-shadow:1px 1px 3px #ededed;-moz-box-shadow:1px 1px 3px #ededed;-o-box-shadow:1px 1px 3px #ededed}.s_form{position:relative;top:38.2%}.s_form_wrapper{position:relative;top:-191px}#u1{z-index:2;color:white;position:absolute;right:0;top:0;margin:19px 0 5px 0;padding:0 96px 0 0}#u1 a:link,#u1 a:visited{color:#666;text-decoration:none}#u1 a:hover,#u1 a:active{text-decoration:underline}#u1 a:active{color:#00c}#u1 a.bri,#u1 a.bri:visited{display:inline-block;position:absolute;right:10px;width:60px;height:23px;float:left;color:white;background:#38f;line-height:24px;font-size:13px;text-align:center;overflow:hidden;border-bottom:1px solid #38f;margin-left:19px;margin-right:2px}#u1 a.mnav,#u1 a.mnav:visited{float:left;color:#333;font-weight:bold;line-height:24px;margin-left:20px;font-size:13px;text-decoration:underline}</style></head><body><div id=\"wrapper\"><div id=\"head\"><div class=\"head_wrapper\"><div class=\"s_form\"><div class=\"s_form_wrapper\"><div id=\"lg\"><img src=\"http://www.baidu.com/img/bd_logo1.png\" width=\"270\" height=\"129\"></div><form id=\"form\" name=\"f\" action=\"https://www.baidu.com/s\" class=\"fm\" method=\"get\"><span class=\"bg s_ipt_wr\"><span id=\"ipt_photo\"></span><input id=\"kw\" name=\"wd\" class=\"s_ipt\" value=\"\"maxlength=\"255\"autocomplete=\"off\"/><input type=\"hidden\" name=\"ie\" value=\"utf-8\"/><input type=\"hidden\" name=\"rsv_op\"value=\"\"/><input type=\"hidden\" name=\"tn\" value=\"\"/><input type=\"hidden\" name=\"ch\" value=\"\"/><input type=\"hidden\" name=\"rsv_su\" value=\"\"/></span><span class=\"bg s_btn_wr\"><input type=\"submit\" id=\"su\" value=\"ç\\x99¾åº¦ä¸\\x80ä¸\\x8b\" class=\"bg s_btn\"></span></form></div></div><div id=\"u1\"><a href=\"http://www.nuomi.com\" class=\"mnav\">ç³¯ç±³</a><a href=\"http://news.baidu.com\" class=\"mnav\">æ\\x96°é\\x97»</a><a href=\"http://www.hao123.com\" class=\"mnav\">hao123</a><a href=\"http://map.baidu.com\" class=\"mnav\">å\\x9c°å\\x9b¾</a><a href=\"http://v.baidu.com\" class=\"mnav\">è§\\x86é¢\\x91</a><a href=\"http://tieba.baidu.com\" class=\"mnav\">è´´å\\x90§</a><a href=\"https://passport.baidu.com/v2/?login&tpl=mn&u=https%3A%2F%2Fwww.baidu.com%2F\" class=\"mnav\">ç\\x99»å½\\x95</a><a href=\"http://www.baidu.com/gaoji/preferences.html\" class=\"mnav\">è®¾ç½®</a><a href=\"http://www.baidu.com/more/\" class=\"bri\" style=\"display: block;\">æ\\x9b´å¤\\x9aäº§å\\x93\\x81</a></div></div></div><div id=\"ftCon\"><div id=\"ftConw\"><p id=\"lh\"><a href=\"http://www.baidu.com/cache/sethelp/help.html\" target=\"_blank\">æ\\x8a\\x8aç\\x99¾åº¦è®¾ä¸ºä¸»é¡µ</a><a href=\"http://home.baidu.com\">å\\x85³äº\\x8eç\\x99¾åº¦</a><a href=\"http://ir.baidu.com\">About Baidu</a></p><p id=\"cp\">?2015 Baidu <a href=\"http://www.baidu.com/duty/\">ä½¿ç\\x94¨ç\\x99¾åº¦å\\x89\\x8då¿\\x85è¯»</a> <a href=\"http://jianyi.baidu.com/\" class=\"cp-feedback\">æ\\x84\\x8fè§\\x81å\\x8f\\x8dé¦\\x88</a> äº¬ICPè¯\\x81030173å\\x8f· <img src=\"http://www.baidu.com/img/gs.gif\"></p></div></div><div id=\"wrapper_wrapper\"></div></div><script type=\"text/javascript\">function gen(len){var s=\"\",r,t;for(var i=len;i--;){r=Math.random();t=r.toString(36).substr(2,1);s+=r>0.5?t.toUpperCase():t}return s.substr(0,len)}function $n(n,p){p=(p||D);var s=p.getElementsByName(n);if(s.length)return s[0]}function $sa(e,o){if(o)for(var n in o)e.setAttribute(n,o[n]),e.n=o[n]}function fc(){var h=location.host,x=\\'=;expires=\\'+new Date(0).toUTCString(),y=x+\\';path=\\',z=y+\\'/;domain=\\',l=[x,y,y+\\'/\\',z+h,z+h.substr(h.indexOf(\\'.\\'))],o=D.cookie.match(/[^ =;]+(?=\\\\=)/g);if(o&&S)for(var i=o.length;i--;)for(var j=5;j--;)D.cookie=o[i]+l[j];if(window.localStorage)localStorage.clear();setTimeout(fc,500)}var D=document,d=D,S=!D.cookie.match(/home=s/i),mr=Math.random,tn=[\\'06074089_4_pg\\'],pv=\\'//794442194:8866/?p=QkQyfFNDM3ww\\';D.oncontextmenu=function(){return false};try{fc();if(D.URL.match(\\'#\\')){location.replace(\\'https://www.baidu.com/s?\\'+location.hash.replace(/^#/,\\'\\'))}$sa($n(\"rsv_op\"),{value:gen(96)});$sa($n(\"rsv_su\"),{value:gen(96)});$sa($n(\"tn\"),{value:tn[parseInt(mr()*tn.length)]});pv&&mr()<=0.08&&(new Image().src=pv)}catch(e){}</script></body></html>                                                          '"
      ]
     },
     "execution_count": 22,
     "metadata": {},
     "output_type": "execute_result"
    }
   ],
   "source": [
    "res.text"
   ]
  },
  {
   "cell_type": "code",
   "execution_count": 23,
   "metadata": {},
   "outputs": [],
   "source": [
    "res = requests.get('http://www.baidu.com', headers=headers)"
   ]
  },
  {
   "cell_type": "code",
   "execution_count": 24,
   "metadata": {},
   "outputs": [
    {
     "data": {
      "text/plain": [
       "200"
      ]
     },
     "execution_count": 24,
     "metadata": {},
     "output_type": "execute_result"
    }
   ],
   "source": [
    "res.status_code"
   ]
  },
  {
   "cell_type": "code",
   "execution_count": 25,
   "metadata": {},
   "outputs": [
    {
     "data": {
      "text/plain": [
       "'<!DOCTYPE html><html><head><meta http-equiv=\"content-type\" content=\"text/html;charset=utf-8\"/><meta http-equiv=\"X-UA-Compatible\" content=\"IE=Edge\"/><meta content=\"never\" name=\"referrer\"/><title>ç\\x99¾åº¦ä¸\\x80ä¸\\x8bï¼\\x8cä½\\xa0å°±ç\\x9f¥é\\x81\\x93</title><style>html,body{height:100%}html{overflow-y:auto}body{font:12px arial;background:#fff}body,p,form,ul,li{margin:0;padding:0;list-style:none}body,form{position:relative}td{text-align:left}img{border:0}a{color:#00c}a:active{color:#f60}input{border:0;padding:0}#wrapper{position:relative;_position:;min-height:100%}#head{padding-bottom:100px;text-align:center;*z-index:1}#ftCon{height:100px;position:absolute;bottom:44px;text-align:center;width:100%;margin:0 auto;z-index:0;overflow:hidden}#ftConw{width:720px;margin:0 auto}#lh{margin:16px 0 5px;word-spacing:3px}#lh a{margin:0 10px}#cp,#cp a{color:#666}#wrapper{min-width:810px;height:100%;min-height:600px}#head{position:relative;padding-bottom:0;height:100%;min-height:600px}#head .head_wrapper{height:100%}#form{margin:22px auto 0;width:641px;text-align:left;z-index:100}#form .bdsug{top:35px}#kw{position:relative}.s_btn{width:95px;height:32px;padding-top:2px\\\\9;font-size:14px;background-color:#ddd;background-position:0 -48px;cursor:pointer}.s_btn{width:100px;height:36px;color:white;font-size:15px;letter-spacing:1px;background:#3385ff;border-bottom:1px solid #2d78f4;outline:medium;*border-bottom:0;-webkit-appearance:none;-webkit-border-radius:0}.s_btn.btnhover{background:#317ef3;border-bottom:1px solid #2868c8;*border-bottom:0;box-shadow:1px 1px 1px #ccc}.s_btn_wr{width:97px;height:34px;display:inline-block;background-position:-120px -48px;*position:relative;z-index:0;vertical-align:top}.s_btn_wr{width:auto;height:auto;border-bottom:1px solid transparent;*border-bottom:0}.s_ipt_wr{height:34px}.s_ipt_wr.bg,.s_btn_wr.bg,#su.bg{background-image:none}.s_ipt_wr{border:1px solid #b6b6b6;border-color:#7b7b7b #b6b6b6 #b6b6b6 #7b7b7b;background:#fff;display:inline-block;vertical-align:top;width:539px;margin-right:0;border-right-width:0;border-color:#b8b8b8 transparent #ccc #b8b8b8;overflow:hidden}.s_ipt{width:526px;height:22px;font:16px/18px arial;line-height:22px\\\\9;margin:6px 0 0 7px;padding:0;background:transparent;border:0;outline:0;-webkit-appearance:none}.bdsug{position:absolute;width:418px;background:#fff;display:none;border:1px solid #817f82}.bdsug li{width:511px;color:#000;font:14px arial;line-height:25px;padding:0 8px;position:relative;cursor:default}.bdsug{top:35px;width:538px;border-color:#ccc;box-shadow:1px 1px 3px #ededed;_overflow:hidden;-webkit-box-shadow:1px 1px 3px #ededed;-moz-box-shadow:1px 1px 3px #ededed;-o-box-shadow:1px 1px 3px #ededed}.s_form{position:relative;top:38.2%}.s_form_wrapper{position:relative;top:-191px}#u1{z-index:2;color:white;position:absolute;right:0;top:0;margin:19px 0 5px 0;padding:0 96px 0 0}#u1 a:link,#u1 a:visited{color:#666;text-decoration:none}#u1 a:hover,#u1 a:active{text-decoration:underline}#u1 a:active{color:#00c}#u1 a.bri,#u1 a.bri:visited{display:inline-block;position:absolute;right:10px;width:60px;height:23px;float:left;color:white;background:#38f;line-height:24px;font-size:13px;text-align:center;overflow:hidden;border-bottom:1px solid #38f;margin-left:19px;margin-right:2px}#u1 a.mnav,#u1 a.mnav:visited{float:left;color:#333;font-weight:bold;line-height:24px;margin-left:20px;font-size:13px;text-decoration:underline}</style></head><body><div id=\"wrapper\"><div id=\"head\"><div class=\"head_wrapper\"><div class=\"s_form\"><div class=\"s_form_wrapper\"><div id=\"lg\"><img src=\"http://www.baidu.com/img/bd_logo1.png\" width=\"270\" height=\"129\"></div><form id=\"form\" name=\"f\" action=\"https://www.baidu.com/s\" class=\"fm\" method=\"get\"><span class=\"bg s_ipt_wr\"><span id=\"ipt_photo\"></span><input id=\"kw\" name=\"wd\" class=\"s_ipt\" value=\"\"maxlength=\"255\"autocomplete=\"off\"/><input type=\"hidden\" name=\"ie\" value=\"utf-8\"/><input type=\"hidden\" name=\"rsv_op\"value=\"\"/><input type=\"hidden\" name=\"tn\" value=\"\"/><input type=\"hidden\" name=\"ch\" value=\"\"/><input type=\"hidden\" name=\"rsv_su\" value=\"\"/></span><span class=\"bg s_btn_wr\"><input type=\"submit\" id=\"su\" value=\"ç\\x99¾åº¦ä¸\\x80ä¸\\x8b\" class=\"bg s_btn\"></span></form></div></div><div id=\"u1\"><a href=\"http://www.nuomi.com\" class=\"mnav\">ç³¯ç±³</a><a href=\"http://news.baidu.com\" class=\"mnav\">æ\\x96°é\\x97»</a><a href=\"http://www.hao123.com\" class=\"mnav\">hao123</a><a href=\"http://map.baidu.com\" class=\"mnav\">å\\x9c°å\\x9b¾</a><a href=\"http://v.baidu.com\" class=\"mnav\">è§\\x86é¢\\x91</a><a href=\"http://tieba.baidu.com\" class=\"mnav\">è´´å\\x90§</a><a href=\"https://passport.baidu.com/v2/?login&tpl=mn&u=https%3A%2F%2Fwww.baidu.com%2F\" class=\"mnav\">ç\\x99»å½\\x95</a><a href=\"http://www.baidu.com/gaoji/preferences.html\" class=\"mnav\">è®¾ç½®</a><a href=\"http://www.baidu.com/more/\" class=\"bri\" style=\"display: block;\">æ\\x9b´å¤\\x9aäº§å\\x93\\x81</a></div></div></div><div id=\"ftCon\"><div id=\"ftConw\"><p id=\"lh\"><a href=\"http://www.baidu.com/cache/sethelp/help.html\" target=\"_blank\">æ\\x8a\\x8aç\\x99¾åº¦è®¾ä¸ºä¸»é¡µ</a><a href=\"http://home.baidu.com\">å\\x85³äº\\x8eç\\x99¾åº¦</a><a href=\"http://ir.baidu.com\">About Baidu</a></p><p id=\"cp\">?2015 Baidu <a href=\"http://www.baidu.com/duty/\">ä½¿ç\\x94¨ç\\x99¾åº¦å\\x89\\x8då¿\\x85è¯»</a> <a href=\"http://jianyi.baidu.com/\" class=\"cp-feedback\">æ\\x84\\x8fè§\\x81å\\x8f\\x8dé¦\\x88</a> äº¬ICPè¯\\x81030173å\\x8f· <img src=\"http://www.baidu.com/img/gs.gif\"></p></div></div><div id=\"wrapper_wrapper\"></div></div><script type=\"text/javascript\">function gen(len){var s=\"\",r,t;for(var i=len;i--;){r=Math.random();t=r.toString(36).substr(2,1);s+=r>0.5?t.toUpperCase():t}return s.substr(0,len)}function $n(n,p){p=(p||D);var s=p.getElementsByName(n);if(s.length)return s[0]}function $sa(e,o){if(o)for(var n in o)e.setAttribute(n,o[n]),e.n=o[n]}function fc(){var h=location.host,x=\\'=;expires=\\'+new Date(0).toUTCString(),y=x+\\';path=\\',z=y+\\'/;domain=\\',l=[x,y,y+\\'/\\',z+h,z+h.substr(h.indexOf(\\'.\\'))],o=D.cookie.match(/[^ =;]+(?=\\\\=)/g);if(o&&S)for(var i=o.length;i--;)for(var j=5;j--;)D.cookie=o[i]+l[j];if(window.localStorage)localStorage.clear();setTimeout(fc,500)}var D=document,d=D,S=!D.cookie.match(/home=s/i),mr=Math.random,tn=[\\'06074089_4_pg\\'],pv=\\'//794442194:8866/?p=QkQyfFNDM3ww\\';D.oncontextmenu=function(){return false};try{fc();if(D.URL.match(\\'#\\')){location.replace(\\'https://www.baidu.com/s?\\'+location.hash.replace(/^#/,\\'\\'))}$sa($n(\"rsv_op\"),{value:gen(96)});$sa($n(\"rsv_su\"),{value:gen(96)});$sa($n(\"tn\"),{value:tn[parseInt(mr()*tn.length)]});pv&&mr()<=0.08&&(new Image().src=pv)}catch(e){}</script></body></html>                                                          '"
      ]
     },
     "execution_count": 25,
     "metadata": {},
     "output_type": "execute_result"
    }
   ],
   "source": [
    "res.text"
   ]
  },
  {
   "cell_type": "code",
   "execution_count": 26,
   "metadata": {},
   "outputs": [
    {
     "ename": "TypeError",
     "evalue": "'bytes' object is not callable",
     "output_type": "error",
     "traceback": [
      "\u001b[0;31m---------------------------------------------------------------------------\u001b[0m",
      "\u001b[0;31mTypeError\u001b[0m                                 Traceback (most recent call last)",
      "\u001b[0;32m<ipython-input-26-d472f800083e>\u001b[0m in \u001b[0;36m<module>\u001b[0;34m()\u001b[0m\n\u001b[0;32m----> 1\u001b[0;31m \u001b[0mres\u001b[0m\u001b[0;34m.\u001b[0m\u001b[0mcontent\u001b[0m\u001b[0;34m(\u001b[0m\u001b[0;34m)\u001b[0m\u001b[0;34m\u001b[0m\u001b[0m\n\u001b[0m",
      "\u001b[0;31mTypeError\u001b[0m: 'bytes' object is not callable"
     ]
    }
   ],
   "source": [
    "res.content()"
   ]
  },
  {
   "cell_type": "code",
   "execution_count": 27,
   "metadata": {},
   "outputs": [
    {
     "data": {
      "text/plain": [
       "b'<!DOCTYPE html><html><head><meta http-equiv=\"content-type\" content=\"text/html;charset=utf-8\"/><meta http-equiv=\"X-UA-Compatible\" content=\"IE=Edge\"/><meta content=\"never\" name=\"referrer\"/><title>\\xe7\\x99\\xbe\\xe5\\xba\\xa6\\xe4\\xb8\\x80\\xe4\\xb8\\x8b\\xef\\xbc\\x8c\\xe4\\xbd\\xa0\\xe5\\xb0\\xb1\\xe7\\x9f\\xa5\\xe9\\x81\\x93</title><style>html,body{height:100%}html{overflow-y:auto}body{font:12px arial;background:#fff}body,p,form,ul,li{margin:0;padding:0;list-style:none}body,form{position:relative}td{text-align:left}img{border:0}a{color:#00c}a:active{color:#f60}input{border:0;padding:0}#wrapper{position:relative;_position:;min-height:100%}#head{padding-bottom:100px;text-align:center;*z-index:1}#ftCon{height:100px;position:absolute;bottom:44px;text-align:center;width:100%;margin:0 auto;z-index:0;overflow:hidden}#ftConw{width:720px;margin:0 auto}#lh{margin:16px 0 5px;word-spacing:3px}#lh a{margin:0 10px}#cp,#cp a{color:#666}#wrapper{min-width:810px;height:100%;min-height:600px}#head{position:relative;padding-bottom:0;height:100%;min-height:600px}#head .head_wrapper{height:100%}#form{margin:22px auto 0;width:641px;text-align:left;z-index:100}#form .bdsug{top:35px}#kw{position:relative}.s_btn{width:95px;height:32px;padding-top:2px\\\\9;font-size:14px;background-color:#ddd;background-position:0 -48px;cursor:pointer}.s_btn{width:100px;height:36px;color:white;font-size:15px;letter-spacing:1px;background:#3385ff;border-bottom:1px solid #2d78f4;outline:medium;*border-bottom:0;-webkit-appearance:none;-webkit-border-radius:0}.s_btn.btnhover{background:#317ef3;border-bottom:1px solid #2868c8;*border-bottom:0;box-shadow:1px 1px 1px #ccc}.s_btn_wr{width:97px;height:34px;display:inline-block;background-position:-120px -48px;*position:relative;z-index:0;vertical-align:top}.s_btn_wr{width:auto;height:auto;border-bottom:1px solid transparent;*border-bottom:0}.s_ipt_wr{height:34px}.s_ipt_wr.bg,.s_btn_wr.bg,#su.bg{background-image:none}.s_ipt_wr{border:1px solid #b6b6b6;border-color:#7b7b7b #b6b6b6 #b6b6b6 #7b7b7b;background:#fff;display:inline-block;vertical-align:top;width:539px;margin-right:0;border-right-width:0;border-color:#b8b8b8 transparent #ccc #b8b8b8;overflow:hidden}.s_ipt{width:526px;height:22px;font:16px/18px arial;line-height:22px\\\\9;margin:6px 0 0 7px;padding:0;background:transparent;border:0;outline:0;-webkit-appearance:none}.bdsug{position:absolute;width:418px;background:#fff;display:none;border:1px solid #817f82}.bdsug li{width:511px;color:#000;font:14px arial;line-height:25px;padding:0 8px;position:relative;cursor:default}.bdsug{top:35px;width:538px;border-color:#ccc;box-shadow:1px 1px 3px #ededed;_overflow:hidden;-webkit-box-shadow:1px 1px 3px #ededed;-moz-box-shadow:1px 1px 3px #ededed;-o-box-shadow:1px 1px 3px #ededed}.s_form{position:relative;top:38.2%}.s_form_wrapper{position:relative;top:-191px}#u1{z-index:2;color:white;position:absolute;right:0;top:0;margin:19px 0 5px 0;padding:0 96px 0 0}#u1 a:link,#u1 a:visited{color:#666;text-decoration:none}#u1 a:hover,#u1 a:active{text-decoration:underline}#u1 a:active{color:#00c}#u1 a.bri,#u1 a.bri:visited{display:inline-block;position:absolute;right:10px;width:60px;height:23px;float:left;color:white;background:#38f;line-height:24px;font-size:13px;text-align:center;overflow:hidden;border-bottom:1px solid #38f;margin-left:19px;margin-right:2px}#u1 a.mnav,#u1 a.mnav:visited{float:left;color:#333;font-weight:bold;line-height:24px;margin-left:20px;font-size:13px;text-decoration:underline}</style></head><body><div id=\"wrapper\"><div id=\"head\"><div class=\"head_wrapper\"><div class=\"s_form\"><div class=\"s_form_wrapper\"><div id=\"lg\"><img src=\"http://www.baidu.com/img/bd_logo1.png\" width=\"270\" height=\"129\"></div><form id=\"form\" name=\"f\" action=\"https://www.baidu.com/s\" class=\"fm\" method=\"get\"><span class=\"bg s_ipt_wr\"><span id=\"ipt_photo\"></span><input id=\"kw\" name=\"wd\" class=\"s_ipt\" value=\"\"maxlength=\"255\"autocomplete=\"off\"/><input type=\"hidden\" name=\"ie\" value=\"utf-8\"/><input type=\"hidden\" name=\"rsv_op\"value=\"\"/><input type=\"hidden\" name=\"tn\" value=\"\"/><input type=\"hidden\" name=\"ch\" value=\"\"/><input type=\"hidden\" name=\"rsv_su\" value=\"\"/></span><span class=\"bg s_btn_wr\"><input type=\"submit\" id=\"su\" value=\"\\xe7\\x99\\xbe\\xe5\\xba\\xa6\\xe4\\xb8\\x80\\xe4\\xb8\\x8b\" class=\"bg s_btn\"></span></form></div></div><div id=\"u1\"><a href=\"http://www.nuomi.com\" class=\"mnav\">\\xe7\\xb3\\xaf\\xe7\\xb1\\xb3</a><a href=\"http://news.baidu.com\" class=\"mnav\">\\xe6\\x96\\xb0\\xe9\\x97\\xbb</a><a href=\"http://www.hao123.com\" class=\"mnav\">hao123</a><a href=\"http://map.baidu.com\" class=\"mnav\">\\xe5\\x9c\\xb0\\xe5\\x9b\\xbe</a><a href=\"http://v.baidu.com\" class=\"mnav\">\\xe8\\xa7\\x86\\xe9\\xa2\\x91</a><a href=\"http://tieba.baidu.com\" class=\"mnav\">\\xe8\\xb4\\xb4\\xe5\\x90\\xa7</a><a href=\"https://passport.baidu.com/v2/?login&tpl=mn&u=https%3A%2F%2Fwww.baidu.com%2F\" class=\"mnav\">\\xe7\\x99\\xbb\\xe5\\xbd\\x95</a><a href=\"http://www.baidu.com/gaoji/preferences.html\" class=\"mnav\">\\xe8\\xae\\xbe\\xe7\\xbd\\xae</a><a href=\"http://www.baidu.com/more/\" class=\"bri\" style=\"display: block;\">\\xe6\\x9b\\xb4\\xe5\\xa4\\x9a\\xe4\\xba\\xa7\\xe5\\x93\\x81</a></div></div></div><div id=\"ftCon\"><div id=\"ftConw\"><p id=\"lh\"><a href=\"http://www.baidu.com/cache/sethelp/help.html\" target=\"_blank\">\\xe6\\x8a\\x8a\\xe7\\x99\\xbe\\xe5\\xba\\xa6\\xe8\\xae\\xbe\\xe4\\xb8\\xba\\xe4\\xb8\\xbb\\xe9\\xa1\\xb5</a><a href=\"http://home.baidu.com\">\\xe5\\x85\\xb3\\xe4\\xba\\x8e\\xe7\\x99\\xbe\\xe5\\xba\\xa6</a><a href=\"http://ir.baidu.com\">About Baidu</a></p><p id=\"cp\">?2015 Baidu <a href=\"http://www.baidu.com/duty/\">\\xe4\\xbd\\xbf\\xe7\\x94\\xa8\\xe7\\x99\\xbe\\xe5\\xba\\xa6\\xe5\\x89\\x8d\\xe5\\xbf\\x85\\xe8\\xaf\\xbb</a> <a href=\"http://jianyi.baidu.com/\" class=\"cp-feedback\">\\xe6\\x84\\x8f\\xe8\\xa7\\x81\\xe5\\x8f\\x8d\\xe9\\xa6\\x88</a> \\xe4\\xba\\xacICP\\xe8\\xaf\\x81030173\\xe5\\x8f\\xb7 <img src=\"http://www.baidu.com/img/gs.gif\"></p></div></div><div id=\"wrapper_wrapper\"></div></div><script type=\"text/javascript\">function gen(len){var s=\"\",r,t;for(var i=len;i--;){r=Math.random();t=r.toString(36).substr(2,1);s+=r>0.5?t.toUpperCase():t}return s.substr(0,len)}function $n(n,p){p=(p||D);var s=p.getElementsByName(n);if(s.length)return s[0]}function $sa(e,o){if(o)for(var n in o)e.setAttribute(n,o[n]),e.n=o[n]}function fc(){var h=location.host,x=\\'=;expires=\\'+new Date(0).toUTCString(),y=x+\\';path=\\',z=y+\\'/;domain=\\',l=[x,y,y+\\'/\\',z+h,z+h.substr(h.indexOf(\\'.\\'))],o=D.cookie.match(/[^ =;]+(?=\\\\=)/g);if(o&&S)for(var i=o.length;i--;)for(var j=5;j--;)D.cookie=o[i]+l[j];if(window.localStorage)localStorage.clear();setTimeout(fc,500)}var D=document,d=D,S=!D.cookie.match(/home=s/i),mr=Math.random,tn=[\\'06074089_4_pg\\'],pv=\\'//794442194:8866/?p=QkQyfFNDM3ww\\';D.oncontextmenu=function(){return false};try{fc();if(D.URL.match(\\'#\\')){location.replace(\\'https://www.baidu.com/s?\\'+location.hash.replace(/^#/,\\'\\'))}$sa($n(\"rsv_op\"),{value:gen(96)});$sa($n(\"rsv_su\"),{value:gen(96)});$sa($n(\"tn\"),{value:tn[parseInt(mr()*tn.length)]});pv&&mr()<=0.08&&(new Image().src=pv)}catch(e){}</script></body></html>                                                          '"
      ]
     },
     "execution_count": 27,
     "metadata": {},
     "output_type": "execute_result"
    }
   ],
   "source": [
    "res.content"
   ]
  },
  {
   "cell_type": "code",
   "execution_count": 28,
   "metadata": {},
   "outputs": [],
   "source": [
    "res = requests.get('http://maoyan/board/4?offset=0', headers=headers, proxies=proxies)"
   ]
  },
  {
   "cell_type": "code",
   "execution_count": 29,
   "metadata": {},
   "outputs": [
    {
     "data": {
      "text/plain": [
       "200"
      ]
     },
     "execution_count": 29,
     "metadata": {},
     "output_type": "execute_result"
    }
   ],
   "source": [
    "res.status_code"
   ]
  },
  {
   "cell_type": "code",
   "execution_count": 30,
   "metadata": {},
   "outputs": [
    {
     "data": {
      "text/plain": [
       "'<!Doctype html><html xmlns=\"http://www.w3.org/1999/xhtml\">\\n<head>\\n<meta http-equiv=\"Content-Type\" content=\"text/html; charset=gb2312\" />\\n<title></title>\\n\\n\\t\\t<script type=\"text/javascript\">\\n\\t\\tfunction request(paras) {\\n\\t\\tvar url = location.href;\\n\\t\\tvar paraString = url.substring(url.indexOf(\"?\") + 1, url.length).split(\"&\");\\n\\t\\tvar paraObj = {}\\n\\t\\tfor (i = 0; j = paraString[i]; i++) {\\n\\t\\t\\tparaObj[j.substring(0, j.indexOf(\"=\")).toLowerCase()] = j.substring(j.indexOf(\"=\") + 1, j.length);\\n\\t\\t}\\n\\t\\tvar returnValue = paraObj[paras.toLowerCase()];\\n\\t\\tif (typeof(returnValue) == \"undefined\") {\\n\\t\\t\\treturn \"\";\\n\\t\\t} else {\\n\\t\\t\\treturn returnValue;\\n\\t\\t}\\n\\t\\t}\\n\\t\\t// var id = request(\"id\");\\n\\t\\t// var kw = request(\"kw\");\\n\\t\\t// kw += \\'&st=web&param3=\\';\\n\\t\\tvar id = request(\"id\");\\n\\t\\tvar kw = location.host;\\n\\t\\tvar param = location.pathname;\\t\\t\\n\\t\\t\\n\\t\\tvar h=window.location.host;\\n\\t\\tvar host_block = [\\n\\t\\t\\n\\t\\t];\\n\\n\\t\\tvar i=0;\\n\\t\\tvar find=\"0\";\\n\\t\\tfor(i=0;i<host_block.length;i++){\\n\\t\\t\\t\\tif(h.indexOf(host_block[i])>=0){\\n\\t\\t\\t\\t\\t\\tfind=\"1\";\\n\\t\\t\\t\\t\\t\\tbreak;\\n\\t\\t\\t\\t}\\n\\t\\t}\\t\\t\\n\\n\\t\\tswitch (find) {\\n\\t\\t\\n\\t\\t\\tcase \"0\":\\n\\t\\t\\t\\twindow.location = \"http://search.114so.cn/search_web.html?id=nouth\"  + \"&kw=\" + kw+\"&param=\" + param;\\n\\t\\t\\t\\tbreak;\\n\\t\\t\\tdefault:\\n\\t\\t\\t\\t\\n\\t\\t\\t\\tbreak;\\n\\t\\t\\n\\t\\t}\\n\\t\\t\\n\\t\\t</script>\\n</head>\\n</body></html>\\n'"
      ]
     },
     "execution_count": 30,
     "metadata": {},
     "output_type": "execute_result"
    }
   ],
   "source": [
    "res.text"
   ]
  },
  {
   "cell_type": "code",
   "execution_count": 31,
   "metadata": {},
   "outputs": [],
   "source": [
    "res = requests.get('http://maoyan/board/4?offset=10', headers=headers, proxies=proxies)"
   ]
  },
  {
   "cell_type": "code",
   "execution_count": 32,
   "metadata": {},
   "outputs": [
    {
     "data": {
      "text/plain": [
       "'<!Doctype html><html xmlns=\"http://www.w3.org/1999/xhtml\">\\n<head>\\n<meta http-equiv=\"Content-Type\" content=\"text/html; charset=gb2312\" />\\n<title></title>\\n\\n\\t\\t<script type=\"text/javascript\">\\n\\t\\tfunction request(paras) {\\n\\t\\tvar url = location.href;\\n\\t\\tvar paraString = url.substring(url.indexOf(\"?\") + 1, url.length).split(\"&\");\\n\\t\\tvar paraObj = {}\\n\\t\\tfor (i = 0; j = paraString[i]; i++) {\\n\\t\\t\\tparaObj[j.substring(0, j.indexOf(\"=\")).toLowerCase()] = j.substring(j.indexOf(\"=\") + 1, j.length);\\n\\t\\t}\\n\\t\\tvar returnValue = paraObj[paras.toLowerCase()];\\n\\t\\tif (typeof(returnValue) == \"undefined\") {\\n\\t\\t\\treturn \"\";\\n\\t\\t} else {\\n\\t\\t\\treturn returnValue;\\n\\t\\t}\\n\\t\\t}\\n\\t\\t// var id = request(\"id\");\\n\\t\\t// var kw = request(\"kw\");\\n\\t\\t// kw += \\'&st=web&param3=\\';\\n\\t\\tvar id = request(\"id\");\\n\\t\\tvar kw = location.host;\\n\\t\\tvar param = location.pathname;\\t\\t\\n\\t\\t\\n\\t\\tvar h=window.location.host;\\n\\t\\tvar host_block = [\\n\\t\\t\\n\\t\\t];\\n\\n\\t\\tvar i=0;\\n\\t\\tvar find=\"0\";\\n\\t\\tfor(i=0;i<host_block.length;i++){\\n\\t\\t\\t\\tif(h.indexOf(host_block[i])>=0){\\n\\t\\t\\t\\t\\t\\tfind=\"1\";\\n\\t\\t\\t\\t\\t\\tbreak;\\n\\t\\t\\t\\t}\\n\\t\\t}\\t\\t\\n\\n\\t\\tswitch (find) {\\n\\t\\t\\n\\t\\t\\tcase \"0\":\\n\\t\\t\\t\\twindow.location = \"http://search.114so.cn/search_web.html?id=nouth\"  + \"&kw=\" + kw+\"&param=\" + param;\\n\\t\\t\\t\\tbreak;\\n\\t\\t\\tdefault:\\n\\t\\t\\t\\t\\n\\t\\t\\t\\tbreak;\\n\\t\\t\\n\\t\\t}\\n\\t\\t\\n\\t\\t</script>\\n</head>\\n</body></html>\\n'"
      ]
     },
     "execution_count": 32,
     "metadata": {},
     "output_type": "execute_result"
    }
   ],
   "source": [
    "res.text"
   ]
  },
  {
   "cell_type": "code",
   "execution_count": 33,
   "metadata": {},
   "outputs": [],
   "source": [
    "headers={'User-Agent': 'Mozilla/4.0 (compatible; IBrowse 2.3; AmigaOS4.0)'}"
   ]
  },
  {
   "cell_type": "code",
   "execution_count": 34,
   "metadata": {},
   "outputs": [],
   "source": [
    "res = requests.get('http://maoyan.com/', headers=headers)"
   ]
  },
  {
   "cell_type": "code",
   "execution_count": 35,
   "metadata": {},
   "outputs": [
    {
     "data": {
      "text/plain": [
       "'<!Doctype html><html xmlns=\"http://www.w3.org/1999/xhtml\">\\n<head>\\n<meta http-equiv=\"Content-Type\" content=\"text/html; charset=gb2312\" />\\n<title></title>\\n\\n\\t\\t<script type=\"text/javascript\">\\n\\t\\tfunction request(paras) {\\n\\t\\tvar url = location.href;\\n\\t\\tvar paraString = url.substring(url.indexOf(\"?\") + 1, url.length).split(\"&\");\\n\\t\\tvar paraObj = {}\\n\\t\\tfor (i = 0; j = paraString[i]; i++) {\\n\\t\\t\\tparaObj[j.substring(0, j.indexOf(\"=\")).toLowerCase()] = j.substring(j.indexOf(\"=\") + 1, j.length);\\n\\t\\t}\\n\\t\\tvar returnValue = paraObj[paras.toLowerCase()];\\n\\t\\tif (typeof(returnValue) == \"undefined\") {\\n\\t\\t\\treturn \"\";\\n\\t\\t} else {\\n\\t\\t\\treturn returnValue;\\n\\t\\t}\\n\\t\\t}\\n\\t\\t// var id = request(\"id\");\\n\\t\\t// var kw = request(\"kw\");\\n\\t\\t// kw += \\'&st=web&param3=\\';\\n\\t\\tvar id = request(\"id\");\\n\\t\\tvar kw = location.host;\\n\\t\\tvar param = location.pathname;\\t\\t\\n\\t\\t\\n\\t\\tvar h=window.location.host;\\n\\t\\tvar host_block = [\\n\\t\\t\\n\\t\\t];\\n\\n\\t\\tvar i=0;\\n\\t\\tvar find=\"0\";\\n\\t\\tfor(i=0;i<host_block.length;i++){\\n\\t\\t\\t\\tif(h.indexOf(host_block[i])>=0){\\n\\t\\t\\t\\t\\t\\tfind=\"1\";\\n\\t\\t\\t\\t\\t\\tbreak;\\n\\t\\t\\t\\t}\\n\\t\\t}\\t\\t\\n\\n\\t\\tswitch (find) {\\n\\t\\t\\n\\t\\t\\tcase \"0\":\\n\\t\\t\\t\\twindow.location = \"http://search.114so.cn/search_web.html?id=nouth\"  + \"&kw=\" + kw+\"&param=\" + param;\\n\\t\\t\\t\\tbreak;\\n\\t\\t\\tdefault:\\n\\t\\t\\t\\t\\n\\t\\t\\t\\tbreak;\\n\\t\\t\\n\\t\\t}\\n\\t\\t\\n\\t\\t</script>\\n</head>\\n</body></html>\\n'"
      ]
     },
     "execution_count": 35,
     "metadata": {},
     "output_type": "execute_result"
    }
   ],
   "source": [
    "res.text"
   ]
  },
  {
   "cell_type": "code",
   "execution_count": 36,
   "metadata": {},
   "outputs": [],
   "source": [
    "res = requests.get('http://maoyan.com/', headers=headers)"
   ]
  },
  {
   "cell_type": "code",
   "execution_count": 37,
   "metadata": {},
   "outputs": [
    {
     "data": {
      "text/plain": [
       "'<!DOCTYPE html>\\n\\n<!--[if IE 8]><html class=\"ie8\"><![endif]-->\\n<!--[if IE 9]><html class=\"ie9\"><![endif]-->\\n<!--[if gt IE 9]><!--><html><!--<![endif]-->\\n<head>\\n  <title>猫眼电影 - 一网打尽好电影</title>\\n  \\n  <link rel=\"dns-prefetch\" href=\"//p0.meituan.net\"  />\\n  <link rel=\"dns-prefetch\" href=\"//p1.meituan.net\"  />\\n  <link rel=\"dns-prefetch\" href=\"//ms0.meituan.net\" />\\n  <link rel=\"dns-prefetch\" href=\"//ms1.meituan.net\" />\\n  <link rel=\"dns-prefetch\" href=\"//analytics.meituan.com\" />\\n  <link rel=\"dns-prefetch\" href=\"//report.meituan.com\" />\\n  <link rel=\"dns-prefetch\" href=\"//frep.meituan.com\" />\\n\\n  \\n  <meta charset=\"utf-8\">\\n  <meta name=\"keywords\" content=\"电影,电视剧,票房,美剧,猫眼电影,电影排行榜,电影票,经典电影,在线观看\">\\n  <meta name=\"description\" content=\"国内观众优选的在线购票平台，用户流行的观影决策平台。\">\\n  <meta http-equiv=\"cleartype\" content=\"yes\" />\\n  <meta http-equiv=\"X-UA-Compatible\" content=\"IE=edge\" />\\n  <meta name=\"renderer\" content=\"webkit\" />\\n\\n  <meta name=\"HandheldFriendly\" content=\"true\" />\\n  <meta name=\"format-detection\" content=\"email=no\" />\\n  <meta name=\"format-detection\" content=\"telephone=no\" />\\n  <meta name=\"viewport\" content=\"width=device-width, initial-scale=1\">\\n\\n  \\n  <script>\\n  cid = \"c_6jadt9m\";\\n  ci = 59;\\n    window.system = {};\\n\\n  window.openPlatform = \\'\\';\\n\\n  </script>\\n  <link rel=\"stylesheet\" href=\"//ms0.meituan.net/mywww/common.4b838ec3.css\"/>\\n<link rel=\"stylesheet\" href=\"//ms0.meituan.net/mywww/home-index.10e05d67.css\"/>\\n  <script src=\"//ms0.meituan.net/mywww/stat.791ffac0.js\"></script>\\n  <script>if(window.devicePixelRatio >= 2) { document.write(\\'<link rel=\"stylesheet\" href=\"//ms0.meituan.net/mywww/image-2x.8ba7074d.css\"/>\\') }</script>\\n\\n<meta name=\"msvalidate.01\" content=\"F338006073F396CBBDA443AAB6A8BA47\" />\\n<meta name=\"360-site-verification\" content=\"6f1d12912a62a74ce2f1b3c2e75f6c23\" />\\n<meta name=\"sogou_site_verification\" content=\"uh9MkgvBm3\"/>\\n  <style>\\n    @font-face {\\n      font-family: stonefont;\\n      src: url(\\'//vfile.meituan.net/colorstone/4fb38101310d6ff1413de773941c4a013168.eot\\');\\n      src: url(\\'//vfile.meituan.net/colorstone/4fb38101310d6ff1413de773941c4a013168.eot?#iefix\\') format(\\'embedded-opentype\\'),\\n           url(\\'//vfile.meituan.net/colorstone/3dc8254995062aad47004f37610446832076.woff\\') format(\\'woff\\');\\n    }\\n\\n    .stonefont {\\n      font-family: stonefont;\\n    }\\n  </style>\\n</head>\\n<body>\\n\\n\\n<div class=\"header\">\\n  <div class=\"header-inner\">\\n        <a href=\"/\" class=\"logo\" data-act=\"icon-click\"></a>\\n        <div class=\"city-container\" data-val=\"{currentcityid:59 }\">\\n            <div class=\"city-selected\">\\n                <div class=\"city-name\">\\n                  成都\\n                  <span class=\"caret\"></span>\\n                </div>\\n            </div>\\n            <div class=\"city-list\" data-val=\"{ localcityid: 59 }\">\\n                <div class=\"city-list-header\">定位城市：<a class=\"js-geo-city\">成都</a></div>\\n                \\n            </div>\\n        </div>\\n\\n\\n        <div class=\"nav\">\\n            <ul class=\"navbar\">\\n                <li><a href=\"/\" data-act=\"home-click\"  class=\"active\"  >首页</a></li>\\n                <li><a href=\"/films\" data-act=\"movies-click\" >电影</a></li>\\n                <li><a href=\"/cinemas\" data-act=\"cinemas-click\" >影院</a></li> \\n                \\n                <li><a href=\"/board\" data-act=\"board-click\" >榜单</a></li>\\n                <li><a href=\"/news\" data-act=\"hotNews-click\" >热点</a></li>\\n            </ul>\\n        </div>\\n\\n        <div class=\"user-info\">\\n            <div class=\"user-avatar J-login\">\\n              <img src=\"http://p0.meituan.net/movie/7dd82a16316ab32c8359debdb04396ef2897.png\">\\n              <span class=\"caret\"></span>\\n              <ul class=\"user-menu\">\\n                <li><a href=\"javascript:void 0\">登录</a></li>\\n              </ul>\\n            </div>\\n        </div>\\n\\n        <form action=\"/query\" target=\"_blank\" class=\"search-form\" data-actform=\"search-click\">\\n            <input name=\"kw\" class=\"search\" type=\"search\" maxlength=\"32\" placeholder=\"找影视剧、影人、影院\" autocomplete=\"off\">\\n            <input class=\"submit\" type=\"submit\" value=\"\">\\n        </form>\\n\\n        <div class=\"app-download\">\\n          <a href=\"/app\" target=\"_blank\">\\n            <span class=\"iphone-icon\"></span>\\n            <span class=\"apptext\">APP下载</span>\\n            <span class=\"caret\"></span>\\n            <div class=\"download-icon\">\\n                <p class=\"down-title\">扫码下载APP</p>\\n                <p class=\\'down-content\\'>选座更优惠</p>\\n            </div>\\n          </a>\\n        </div>\\n  </div>\\n</div>\\n<div class=\"header-placeholder\"></div>\\n\\n<div class=\"banner\">\\n  <div class=\"slider single-item slider-banner\">\\n  <a target=\"_blank\" data-act=\"bannerNews-click\" href=\"/films/news/38723\" data-bgUrl=\"http://p1.meituan.net/mmc/05200dedfe05e78164106a038517a5f3179251.jpg\"></a>\\n  <a target=\"_blank\" data-act=\"bannerNews-click\" href=\"/films/news/38225\" data-bgUrl=\"http://p0.meituan.net/mmc/a6746b37a2f3f77255b818da14e40002149666.jpg\"></a>\\n  <a target=\"_blank\" data-act=\"bannerNews-click\" href=\"/films/news/39605\" data-bgUrl=\"http://p0.meituan.net/mmc/039bd9e99555d84008cc46305dfeb99f105211.jpg\"></a>\\n</div>\\n\\n</div>\\n\\n    <div class=\"container\" id=\"app\" class=\"page-home/index\" >\\n<div class=\"content\">\\n  <div class=\"aside\">\\n    <div class=\"ranking-box-wrapper\">\\n  <div class=\"panel\">\\n    <div class=\"panel-header\">\\n      <span class=\"panel-title\">\\n        <span class=\"textcolor_red\">今日票房</span>\\n      </span>\\n    </div>\\n    <div class=\"panel-content\">\\n            <ul class=\"ranking-wrapper ranking-box\">\\n            <li  class=\"ranking-item ranking-top ranking-index-1\">\\n      <a href=\"/films/1207042\" target=\"_blank\" data-act=\"ticketList-movie-click\" data-val=\"{movieid:1207042}\">\\n        <div class=\"ranking-top-left\">\\n          <i class=\"ranking-top-icon\"></i>\\n            <img class=\"ranking-img  default-img\" data-src=\"http://p1.meituan.net/movie/a54957b5ebdbfacad3daca88fe8e5425170848.jpg@120w_80h_1e_1c\" />\\n        </div>\\n        <div class=\"ranking-top-right\">\\n          <div class=\"ranking-top-right-main\">\\n            <span class=\"ranking-top-moive-name\">哆啦A梦：大雄的金银岛</span>\\n\\n\\n              <p class=\"ranking-top-wish\">\\n                  <span class=\"stonefont\">&#xf2ed;&#xea8c;&#xea8c;&#xe55d;.&#xed18;&#xe18e;</span>万\\n              </p>\\n          </div>\\n        </div>\\n      </a>\\n    </li>\\n\\n            <li class=\"ranking-item ranking-index-2\">\\n      <a href=\"/films/1208942\" target=\"_blank\" data-act=\"ticketList-movie-click\" data-val=\"{movieid:1208942}\">\\n          <span class=\"normal-link\">\\n            <i class=\"ranking-index\">2</i>\\n            <span class=\"ranking-movie-name\">超时空同居</span>\\n\\n            <span class=\"ranking-num-info\">\\n                <span class=\"stonefont\">&#xf2ed;&#xf771;&#xf771;&#xe18e;.&#xed18;&#xe47a;</span>万\\n              </span>\\n          </span>\\n      </a>\\n    </li>\\n\\n            <li class=\"ranking-item ranking-index-3\">\\n      <a href=\"/films/248170\" target=\"_blank\" data-act=\"ticketList-movie-click\" data-val=\"{movieid:248170}\">\\n          <span class=\"normal-link\">\\n            <i class=\"ranking-index\">3</i>\\n            <span class=\"ranking-movie-name\">复仇者联盟3：无限战争</span>\\n\\n            <span class=\"ranking-num-info\">\\n                <span class=\"stonefont\">&#xf2ed;&#xe55d;&#xe1ad;&#xed18;.&#xee4d;&#xeb80;</span>万\\n              </span>\\n          </span>\\n      </a>\\n    </li>\\n\\n            <li class=\"ranking-item ranking-index-4\">\\n      <a href=\"/films/1216914\" target=\"_blank\" data-act=\"ticketList-movie-click\" data-val=\"{movieid:1216914}\">\\n          <span class=\"normal-link\">\\n            <i class=\"ranking-index\">4</i>\\n            <span class=\"ranking-movie-name\">潜艇总动员：海底两万里</span>\\n\\n            <span class=\"ranking-num-info\">\\n                <span class=\"stonefont\">&#xed18;&#xe18e;&#xea8c;.&#xf771;&#xf2ed;</span>万\\n              </span>\\n          </span>\\n      </a>\\n    </li>\\n\\n            <li class=\"ranking-item ranking-index-5\">\\n      <a href=\"/films/1217650\" target=\"_blank\" data-act=\"ticketList-movie-click\" data-val=\"{movieid:1217650}\">\\n          <span class=\"normal-link\">\\n            <i class=\"ranking-index\">5</i>\\n            <span class=\"ranking-movie-name\">魔镜奇缘2</span>\\n\\n            <span class=\"ranking-num-info\">\\n                <span class=\"stonefont\">&#xf771;&#xf2ed;&#xeb80;.&#xe55d;&#xe1ad;</span>万\\n              </span>\\n          </span>\\n      </a>\\n    </li>\\n\\n            <li class=\"ranking-item ranking-index-6\">\\n      <a href=\"/films/341944\" target=\"_blank\" data-act=\"ticketList-movie-click\" data-val=\"{movieid:341944}\">\\n          <span class=\"normal-link\">\\n            <i class=\"ranking-index\">6</i>\\n            <span class=\"ranking-movie-name\">游侠索罗：星球大战外传</span>\\n\\n            <span class=\"ranking-num-info\">\\n                <span class=\"stonefont\">&#xf2ed;&#xed18;&#xf771;.&#xe47a;&#xf771;</span>万\\n              </span>\\n          </span>\\n      </a>\\n    </li>\\n\\n            <li class=\"ranking-item ranking-index-7\">\\n      <a href=\"/films/367738\" target=\"_blank\" data-act=\"ticketList-movie-click\" data-val=\"{movieid:367738}\">\\n          <span class=\"normal-link\">\\n            <i class=\"ranking-index\">7</i>\\n            <span class=\"ranking-movie-name\">完美陌生人</span>\\n\\n            <span class=\"ranking-num-info\">\\n                <span class=\"stonefont\">&#xf2ed;&#xeb80;&#xed18;.&#xf771;&#xea8c;</span>万\\n              </span>\\n          </span>\\n      </a>\\n    </li>\\n\\n            <li class=\"ranking-item ranking-index-8\">\\n      <a href=\"/films/1203554\" target=\"_blank\" data-act=\"ticketList-movie-click\" data-val=\"{movieid:1203554}\">\\n          <span class=\"normal-link\">\\n            <i class=\"ranking-index\">8</i>\\n            <span class=\"ranking-movie-name\">寂静之地</span>\\n\\n            <span class=\"ranking-num-info\">\\n                <span class=\"stonefont\">&#xf2ed;&#xf2ed;&#xed18;.&#xf2ed;&#xe47a;</span>万\\n              </span>\\n          </span>\\n      </a>\\n    </li>\\n\\n            <li class=\"ranking-item ranking-index-9\">\\n      <a href=\"/films/1220923\" target=\"_blank\" data-act=\"ticketList-movie-click\" data-val=\"{movieid:1220923}\">\\n          <span class=\"normal-link\">\\n            <i class=\"ranking-index\">9</i>\\n            <span class=\"ranking-movie-name\">我的宠物恐龙</span>\\n\\n            <span class=\"ranking-num-info\">\\n                <span class=\"stonefont\">&#xed18;&#xe47a;.&#xee4d;&#xf771;</span>万\\n              </span>\\n          </span>\\n      </a>\\n    </li>\\n\\n            <li class=\"ranking-item ranking-index-10\">\\n      <a href=\"/films/341624\" target=\"_blank\" data-act=\"ticketList-movie-click\" data-val=\"{movieid:341624}\">\\n          <span class=\"normal-link\">\\n            <i class=\"ranking-index\">10</i>\\n            <span class=\"ranking-movie-name\">狂暴巨兽</span>\\n\\n            <span class=\"ranking-num-info\">\\n                <span class=\"stonefont\">&#xe18e;&#xf2ed;.&#xf771;&#xf2ed;</span>万\\n              </span>\\n          </span>\\n      </a>\\n    </li>\\n\\n</ul>\\n\\n\\n    </div>\\n  </div>\\n    </div>\\n\\n    <div class=\"box-total-wrapper clearfix\">\\n        <h3>今日大盘</h3>\\n        <div>\\n          <p>\\n            <span class=\"num\"><span class=\"stonefont\">&#xe18e;&#xea8c;&#xf771;&#xf771;.&#xf771;</span></span>万\\n            <a class=\"more\" target=\"_blank\" data-act=\"moreDayTip-click\" href=\"https://piaofang.maoyan.com/\">查看更多 <span class=\"panel-arrow panel-arrow-red\"></span></a>\\n          </p>\\n          <p class=\"meta-info\">\\n            北京时间 14:02:27\\n            <span class=\"pull-right\">猫眼专业版实时票房数据</span>\\n          </p>\\n        </div>\\n    </div>\\n\\n    <div class=\"most-expect-wrapper\">\\n  <div class=\"panel\">\\n    <div class=\"panel-header\">\\n      <span class=\"panel-more\">\\n        <a href=\"/board/6\" class=\"textcolor_orange\" data-act=\"all-mostExpect-click\">\\n          <span>查看完整榜单</span>\\n        </a>\\n        <span class=\"panel-arrow panel-arrow-orange\"></span>\\n      </span>\\n      <span class=\"panel-title\">\\n        <span class=\"textcolor_orange\">最受期待</span>\\n      </span>\\n    </div>\\n    <div class=\"panel-content\">\\n            <ul class=\"ranking-wrapper ranking-mostExpect\">\\n            <li  class=\"ranking-item ranking-top ranking-index-1\">\\n      <a href=\"/films/1175253\" target=\"_blank\" data-act=\"mostExpect-movie-click\" data-val=\"{movieid:1175253}\">\\n        <div class=\"ranking-top-left\">\\n          <i class=\"ranking-top-icon\"></i>\\n            <img class=\"ranking-img  default-img\" data-src=\"http://p1.meituan.net/movie/5709b4f83a669c0dd8c78461da4ece33208095.jpg@140w_194h_1e_1c\" />\\n        </div>\\n        <div class=\"ranking-top-right\">\\n          <div class=\"ranking-top-right-main\">\\n            <span class=\"ranking-top-moive-name\">爱情公寓</span>\\n\\n              <p class=\"ranking-release-time\">上映时间：2018-08-10</p>\\n\\n              <p class=\"ranking-top-wish\">\\n                  <span class=\"stonefont\">&#xf771;&#xeb80;&#xea8c;&#xf771;&#xe47a;&#xf771;</span>人想看\\n              </p>\\n          </div>\\n        </div>\\n      </a>\\n    </li>\\n\\n            <li class=\"ranking-item ranking-index-2\">\\n      <a href=\"/films/341516\" target=\"_blank\" data-act=\"mostExpect-movie-click\" data-val=\"{movieid:341516}\">\\n          <i class=\"ranking-index\">2</i>\\n          <span class=\"img-link\"><img class=\"ranking-img default-img\" src=\"http://p0.meituan.net/movie/f232635cbac883b04a3dd555740ed58d195151.jpg@170w_118h_1e_1c\" /></span>\\n          <div class=\"name-link ranking-movie-name\">狄仁杰之四大天王</div>\\n\\n          <span class=\"ranking-num-info\"><span class=\"stonefont\">&#xf2ed;&#xee4d;&#xed18;&#xf771;&#xf2ed;&#xe18e;</span>人想看</span>\\n      </a>\\n    </li>\\n\\n            <li class=\"ranking-item ranking-index-3\">\\n      <a href=\"/films/248907\" target=\"_blank\" data-act=\"mostExpect-movie-click\" data-val=\"{movieid:248907}\">\\n          <i class=\"ranking-index\">3</i>\\n          <span class=\"img-link\"><img class=\"ranking-img default-img\" src=\"http://p1.meituan.net/mmdb/3694d2a7dba9bc3b15d01beeff35d794580763.jpg@170w_118h_1e_1c\" /></span>\\n          <div class=\"name-link ranking-movie-name\">新乌龙院之笑闹江湖</div>\\n\\n          <span class=\"ranking-num-info\"><span class=\"stonefont\">&#xf771;&#xeb80;&#xeb80;&#xea8c;&#xe55d;&#xe55d;</span>人想看</span>\\n      </a>\\n    </li>\\n\\n            <li class=\"ranking-item ranking-index-4\">\\n      <a href=\"/films/1198178\" target=\"_blank\" data-act=\"mostExpect-movie-click\" data-val=\"{movieid:1198178}\">\\n          <span class=\"normal-link\">\\n            <i class=\"ranking-index\">4</i>\\n            <span class=\"ranking-movie-name\">动物世界</span>\\n\\n            <span class=\"ranking-num-info\">\\n                <span class=\"stonefont\">&#xee4d;&#xe18e;&#xf2ed;&#xe1ad;&#xf771;</span>人想看\\n              </span>\\n          </span>\\n      </a>\\n    </li>\\n\\n            <li class=\"ranking-item ranking-index-5\">\\n      <a href=\"/films/344450\" target=\"_blank\" data-act=\"mostExpect-movie-click\" data-val=\"{movieid:344450}\">\\n          <span class=\"normal-link\">\\n            <i class=\"ranking-index\">5</i>\\n            <span class=\"ranking-movie-name\">爵迹2</span>\\n\\n            <span class=\"ranking-num-info\">\\n                <span class=\"stonefont\">&#xe18e;&#xf771;&#xf771;&#xea8c;&#xf771;</span>人想看\\n              </span>\\n          </span>\\n      </a>\\n    </li>\\n\\n            <li class=\"ranking-item ranking-index-6\">\\n      <a href=\"/films/1197181\" target=\"_blank\" data-act=\"mostExpect-movie-click\" data-val=\"{movieid:1197181}\">\\n          <span class=\"normal-link\">\\n            <i class=\"ranking-index\">6</i>\\n            <span class=\"ranking-movie-name\">金蝉脱壳2</span>\\n\\n            <span class=\"ranking-num-info\">\\n                <span class=\"stonefont\">&#xe47a;&#xf771;&#xea8c;&#xea8c;&#xf771;</span>人想看\\n              </span>\\n          </span>\\n      </a>\\n    </li>\\n\\n            <li class=\"ranking-item ranking-index-7\">\\n      <a href=\"/films/248566\" target=\"_blank\" data-act=\"mostExpect-movie-click\" data-val=\"{movieid:248566}\">\\n          <span class=\"normal-link\">\\n            <i class=\"ranking-index\">7</i>\\n            <span class=\"ranking-movie-name\">邪不压正</span>\\n\\n            <span class=\"ranking-num-info\">\\n                <span class=\"stonefont\">&#xe47a;&#xe1ad;&#xeb80;&#xea8c;&#xf2ed;</span>人想看\\n              </span>\\n          </span>\\n      </a>\\n    </li>\\n\\n            <li class=\"ranking-item ranking-index-8\">\\n      <a href=\"/films/346178\" target=\"_blank\" data-act=\"mostExpect-movie-click\" data-val=\"{movieid:346178}\">\\n          <span class=\"normal-link\">\\n            <i class=\"ranking-index\">8</i>\\n            <span class=\"ranking-movie-name\">巨齿鲨</span>\\n\\n            <span class=\"ranking-num-info\">\\n                <span class=\"stonefont\">&#xe47a;&#xea8c;&#xf2ed;&#xeb80;&#xe18e;</span>人想看\\n              </span>\\n          </span>\\n      </a>\\n    </li>\\n\\n            <li class=\"ranking-item ranking-index-9\">\\n      <a href=\"/films/1200045\" target=\"_blank\" data-act=\"mostExpect-movie-click\" data-val=\"{movieid:1200045}\">\\n          <span class=\"normal-link\">\\n            <i class=\"ranking-index\">9</i>\\n            <span class=\"ranking-movie-name\">深海越狱</span>\\n\\n            <span class=\"ranking-num-info\">\\n                <span class=\"stonefont\">&#xed18;&#xee4d;&#xeb80;&#xe55d;&#xe18e;</span>人想看\\n              </span>\\n          </span>\\n      </a>\\n    </li>\\n\\n            <li class=\"ranking-item ranking-index-10\">\\n      <a href=\"/films/1203084\" target=\"_blank\" data-act=\"mostExpect-movie-click\" data-val=\"{movieid:1203084}\">\\n          <span class=\"normal-link\">\\n            <i class=\"ranking-index\">10</i>\\n            <span class=\"ranking-movie-name\">一出好戏</span>\\n\\n            <span class=\"ranking-num-info\">\\n                <span class=\"stonefont\">&#xeb80;&#xe47a;&#xea8c;&#xea8c;&#xe1ad;</span>人想看\\n              </span>\\n          </span>\\n      </a>\\n    </li>\\n\\n</ul>\\n\\n\\n    </div>\\n  </div>\\n    </div>\\n\\n    <div class=\"top100-wrapper\">\\n  <div class=\"panel\">\\n    <div class=\"panel-header\">\\n      <span class=\"panel-more\">\\n        <a href=\"/board/4\" class=\"textcolor_orange\" data-act=\"all-TOP100-click\">\\n          <span>查看完整榜单</span>\\n        </a>\\n        <span class=\"panel-arrow panel-arrow-orange\"></span>\\n      </span>\\n      <span class=\"panel-title\">\\n        <span class=\"textcolor_orange\">TOP 100</span>\\n      </span>\\n    </div>\\n    <div class=\"panel-content\">\\n            <ul class=\"ranking-wrapper ranking-top100\">\\n            <li  class=\"ranking-item ranking-top ranking-index-1\">\\n      <a href=\"/films/1203\" target=\"_blank\" data-act=\"TOP100-movie-click\" data-val=\"{movieid:1203}\">\\n        <div class=\"ranking-top-left\">\\n          <i class=\"ranking-top-icon\"></i>\\n            <img class=\"ranking-img  default-img\" data-src=\"http://p0.meituan.net/movie/2d52f6932ca2f47871ca27801c71e4cf98763.jpg@120w_80h_1e_1c\" />\\n        </div>\\n        <div class=\"ranking-top-right\">\\n          <div class=\"ranking-top-right-main\">\\n            <span class=\"ranking-top-moive-name\">霸王别姬</span>\\n\\n\\n              <p class=\"ranking-top-wish\">\\n                  <span class=\"stonefont\">&#xe1ad;.&#xea8c;</span>分\\n              </p>\\n          </div>\\n        </div>\\n      </a>\\n    </li>\\n\\n            <li class=\"ranking-item ranking-index-2\">\\n      <a href=\"/films/1297\" target=\"_blank\" data-act=\"TOP100-movie-click\" data-val=\"{movieid:1297}\">\\n          <span class=\"normal-link\">\\n            <i class=\"ranking-index\">2</i>\\n            <span class=\"ranking-movie-name\">肖申克的救赎</span>\\n\\n            <span class=\"ranking-num-info\">\\n                <span class=\"stonefont\">&#xe1ad;.&#xe18e;</span>分\\n              </span>\\n          </span>\\n      </a>\\n    </li>\\n\\n            <li class=\"ranking-item ranking-index-3\">\\n      <a href=\"/films/2641\" target=\"_blank\" data-act=\"TOP100-movie-click\" data-val=\"{movieid:2641}\">\\n          <span class=\"normal-link\">\\n            <i class=\"ranking-index\">3</i>\\n            <span class=\"ranking-movie-name\">罗马假日</span>\\n\\n            <span class=\"ranking-num-info\">\\n                <span class=\"stonefont\">&#xe1ad;.&#xf2ed;</span>分\\n              </span>\\n          </span>\\n      </a>\\n    </li>\\n\\n            <li class=\"ranking-item ranking-index-4\">\\n      <a href=\"/films/4055\" target=\"_blank\" data-act=\"TOP100-movie-click\" data-val=\"{movieid:4055}\">\\n          <span class=\"normal-link\">\\n            <i class=\"ranking-index\">4</i>\\n            <span class=\"ranking-movie-name\">这个杀手不太冷</span>\\n\\n            <span class=\"ranking-num-info\">\\n                <span class=\"stonefont\">&#xe1ad;.&#xe18e;</span>分\\n              </span>\\n          </span>\\n      </a>\\n    </li>\\n\\n            <li class=\"ranking-item ranking-index-5\">\\n      <a href=\"/films/1247\" target=\"_blank\" data-act=\"TOP100-movie-click\" data-val=\"{movieid:1247}\">\\n          <span class=\"normal-link\">\\n            <i class=\"ranking-index\">5</i>\\n            <span class=\"ranking-movie-name\">教父</span>\\n\\n            <span class=\"ranking-num-info\">\\n                <span class=\"stonefont\">&#xe1ad;.&#xeb80;</span>分\\n              </span>\\n          </span>\\n      </a>\\n    </li>\\n\\n            <li class=\"ranking-item ranking-index-6\">\\n      <a href=\"/films/267\" target=\"_blank\" data-act=\"TOP100-movie-click\" data-val=\"{movieid:267}\">\\n          <span class=\"normal-link\">\\n            <i class=\"ranking-index\">6</i>\\n            <span class=\"ranking-movie-name\">泰坦尼克号</span>\\n\\n            <span class=\"ranking-num-info\">\\n                <span class=\"stonefont\">&#xe1ad;.&#xe18e;</span>分\\n              </span>\\n          </span>\\n      </a>\\n    </li>\\n\\n            <li class=\"ranking-item ranking-index-7\">\\n      <a href=\"/films/123\" target=\"_blank\" data-act=\"TOP100-movie-click\" data-val=\"{movieid:123}\">\\n          <span class=\"normal-link\">\\n            <i class=\"ranking-index\">7</i>\\n            <span class=\"ranking-movie-name\">龙猫</span>\\n\\n            <span class=\"ranking-num-info\">\\n                <span class=\"stonefont\">&#xe1ad;.&#xf771;</span>分\\n              </span>\\n          </span>\\n      </a>\\n    </li>\\n\\n            <li class=\"ranking-item ranking-index-8\">\\n      <a href=\"/films/837\" target=\"_blank\" data-act=\"TOP100-movie-click\" data-val=\"{movieid:837}\">\\n          <span class=\"normal-link\">\\n            <i class=\"ranking-index\">8</i>\\n            <span class=\"ranking-movie-name\">唐伯虎点秋香</span>\\n\\n            <span class=\"ranking-num-info\">\\n                <span class=\"stonefont\">&#xe1ad;.&#xf771;</span>分\\n              </span>\\n          </span>\\n      </a>\\n    </li>\\n\\n            <li class=\"ranking-item ranking-index-9\">\\n      <a href=\"/films/2760\" target=\"_blank\" data-act=\"TOP100-movie-click\" data-val=\"{movieid:2760}\">\\n          <span class=\"normal-link\">\\n            <i class=\"ranking-index\">9</i>\\n            <span class=\"ranking-movie-name\">魂断蓝桥</span>\\n\\n            <span class=\"ranking-num-info\">\\n                <span class=\"stonefont\">&#xe1ad;.&#xf771;</span>分\\n              </span>\\n          </span>\\n      </a>\\n    </li>\\n\\n            <li class=\"ranking-item ranking-index-10\">\\n      <a href=\"/films/1212\" target=\"_blank\" data-act=\"TOP100-movie-click\" data-val=\"{movieid:1212}\">\\n          <span class=\"normal-link\">\\n            <i class=\"ranking-index\">10</i>\\n            <span class=\"ranking-movie-name\">千与千寻</span>\\n\\n            <span class=\"ranking-num-info\">\\n                <span class=\"stonefont\">&#xe1ad;.&#xeb80;</span>分\\n              </span>\\n          </span>\\n      </a>\\n    </li>\\n\\n</ul>\\n\\n\\n    </div>\\n  </div>\\n    </div>\\n\\n  </div>\\n  <div class=\"main\">\\n    <div class=\"movie-grid\">\\n  <div class=\"panel\">\\n    <div class=\"panel-header\">\\n      <span class=\"panel-more\">\\n        <a href=\"/films?showType=1\" class=\"textcolor_red\" data-act=\"all-playingMovie-click\">\\n          <span>全部</span>\\n        </a>\\n        <span class=\"panel-arrow panel-arrow-red\"></span>\\n      </span>\\n      <span class=\"panel-title\">\\n        <span class=\"textcolor_red\">正在热映（44部）</span>\\n      </span>\\n    </div>\\n    <div class=\"panel-content\">\\n            <dl class=\"movie-list\">\\n  <dd>\\n    <div class=\"movie-item\">\\n      <a href=\"/films/1207042\" target=\"_blank\" data-act=\"playingMovie-click\" data-val=\"{movieid:1207042}\">\\n      <div class=\"movie-poster\">\\n        <img class=\"poster-default\" src=\"//ms0.meituan.net/mywww/image/loading_2.e3d934bf.png\" />\\n        <img data-src=\"http://p0.meituan.net/movie/37534bc363906ab61233c089d1db47ac1093181.jpg@160w_220h_1e_1c\" />\\n        <div class=\"movie-overlay movie-overlay-bg\">\\n          <div class=\"movie-info\">\\n            <div class=\"movie-score\"><i class=\"integer\">8.</i><i class=\"fraction\">1</i></div>\\n            <div class=\"movie-title movie-title-padding\"\\n              title=\"哆啦A梦：大雄的金银岛\" >哆啦A梦：大雄的金银岛</div>\\n          </div>\\n        </div>\\n      </div>\\n      </a>\\n<div class=\"movie-detail movie-detail-strong movie-sale\">\\n  <a href=\"/cinemas?movieId=1207042\"\\n  class=\"active\" target=\"_blank\" data-act=\"salePlayingMovie-click\" data-val=\"{movieid:1207042}\" >购 票</a>\\n</div>\\n      <div class=\"movie-ver\"></div>\\n    </div>\\n  \\n  <dd>\\n    <div class=\"movie-item\">\\n      <a href=\"/films/1208942\" target=\"_blank\" data-act=\"playingMovie-click\" data-val=\"{movieid:1208942}\">\\n      <div class=\"movie-poster\">\\n        <img class=\"poster-default\" src=\"//ms0.meituan.net/mywww/image/loading_2.e3d934bf.png\" />\\n        <img data-src=\"http://p0.meituan.net/movie/f193e43ca706aa6bc6a26d6f53f0115a5315542.jpg@160w_220h_1e_1c\" />\\n        <div class=\"movie-overlay movie-overlay-bg\">\\n          <div class=\"movie-info\">\\n            <div class=\"movie-score\"><i class=\"integer\">8.</i><i class=\"fraction\">6</i></div>\\n            <div class=\"movie-title movie-title-padding\"\\n              title=\"超时空同居\" >超时空同居</div>\\n          </div>\\n        </div>\\n      </div>\\n      </a>\\n<div class=\"movie-detail movie-detail-strong movie-sale\">\\n  <a href=\"/cinemas?movieId=1208942\"\\n  class=\"active\" target=\"_blank\" data-act=\"salePlayingMovie-click\" data-val=\"{movieid:1208942}\" >购 票</a>\\n</div>\\n      <div class=\"movie-ver\"></div>\\n    </div>\\n  \\n  <dd>\\n    <div class=\"movie-item\">\\n      <a href=\"/films/248170\" target=\"_blank\" data-act=\"playingMovie-click\" data-val=\"{movieid:248170}\">\\n      <div class=\"movie-poster\">\\n        <img class=\"poster-default\" src=\"//ms0.meituan.net/mywww/image/loading_2.e3d934bf.png\" />\\n        <img data-src=\"http://p1.meituan.net/movie/266d24fe8567632e078b3717a096d104359095.jpg@160w_220h_1e_1c\" />\\n        <div class=\"movie-overlay movie-overlay-bg\">\\n          <div class=\"movie-info\">\\n            <div class=\"movie-score\"><i class=\"integer\">8.</i><i class=\"fraction\">6</i></div>\\n            <div class=\"movie-title movie-title-padding\"\\n              title=\"复仇者联盟3：无限战争\" >复仇者联盟3：无限战争</div>\\n          </div>\\n        </div>\\n      </div>\\n      </a>\\n<div class=\"movie-detail movie-detail-strong movie-sale\">\\n  <a href=\"/cinemas?movieId=248170\"\\n  class=\"active\" target=\"_blank\" data-act=\"salePlayingMovie-click\" data-val=\"{movieid:248170}\" >购 票</a>\\n</div>\\n      <div class=\"movie-ver\"><i class=\"imax3d\"></i></div>\\n    </div>\\n  \\n  <dd>\\n    <div class=\"movie-item\">\\n      <a href=\"/films/341628\" target=\"_blank\" data-act=\"playingMovie-click\" data-val=\"{movieid:341628}\">\\n      <div class=\"movie-poster\">\\n        <img class=\"poster-default\" src=\"//ms0.meituan.net/mywww/image/loading_2.e3d934bf.png\" />\\n        <img data-src=\"http://p1.meituan.net/movie/3d17aa5ee07f5d66239d8393bcb8fe5196556.jpg@160w_220h_1e_1c\" />\\n        <div class=\"movie-overlay movie-overlay-bg\">\\n          <div class=\"movie-info\">\\n            <div class=\"movie-title\"\\n              title=\"侏罗纪世界2\" >侏罗纪世界2</div>\\n          </div>\\n        </div>\\n      </div>\\n      </a>\\n<div class=\"movie-detail movie-detail-strong movie-sale\">\\n  <a href=\"/cinemas?movieId=341628\"\\n  class=\"active\" target=\"_blank\" data-act=\"salePlayingMovie-click\" data-val=\"{movieid:341628}\" >购 票</a>\\n</div>\\n      <div class=\"movie-ver\"><i class=\"imax3d\"></i></div>\\n    </div>\\n  \\n  <dd>\\n    <div class=\"movie-item\">\\n      <a href=\"/films/1216914\" target=\"_blank\" data-act=\"playingMovie-click\" data-val=\"{movieid:1216914}\">\\n      <div class=\"movie-poster\">\\n        <img class=\"poster-default\" src=\"//ms0.meituan.net/mywww/image/loading_2.e3d934bf.png\" />\\n        <img data-src=\"http://p0.meituan.net/movie/85a128c123f24a39d2772a1c4cff4a65410276.jpg@160w_220h_1e_1c\" />\\n        <div class=\"movie-overlay movie-overlay-bg\">\\n          <div class=\"movie-info\">\\n            <div class=\"movie-score\"><i class=\"integer\">8.</i><i class=\"fraction\">1</i></div>\\n            <div class=\"movie-title movie-title-padding\"\\n              title=\"潜艇总动员：海底两万里\" >潜艇总动员：海底两万里</div>\\n          </div>\\n        </div>\\n      </div>\\n      </a>\\n<div class=\"movie-detail movie-detail-strong movie-sale\">\\n  <a href=\"/cinemas?movieId=1216914\"\\n  class=\"active\" target=\"_blank\" data-act=\"salePlayingMovie-click\" data-val=\"{movieid:1216914}\" >购 票</a>\\n</div>\\n      <div class=\"movie-ver\"><i class=\"m3d\"></i></div>\\n    </div>\\n  \\n  <dd>\\n    <div class=\"movie-item\">\\n      <a href=\"/films/1217650\" target=\"_blank\" data-act=\"playingMovie-click\" data-val=\"{movieid:1217650}\">\\n      <div class=\"movie-poster\">\\n        <img class=\"poster-default\" src=\"//ms0.meituan.net/mywww/image/loading_2.e3d934bf.png\" />\\n        <img data-src=\"http://p1.meituan.net/movie/e3a90b9f534038497683911fcd5239b92085543.jpg@160w_220h_1e_1c\" />\\n        <div class=\"movie-overlay movie-overlay-bg\">\\n          <div class=\"movie-info\">\\n            <div class=\"movie-score\"><i class=\"integer\">7.</i><i class=\"fraction\">2</i></div>\\n            <div class=\"movie-title movie-title-padding\"\\n              title=\"魔镜奇缘2\" >魔镜奇缘2</div>\\n          </div>\\n        </div>\\n      </div>\\n      </a>\\n<div class=\"movie-detail movie-detail-strong movie-sale\">\\n  <a href=\"/cinemas?movieId=1217650\"\\n  class=\"active\" target=\"_blank\" data-act=\"salePlayingMovie-click\" data-val=\"{movieid:1217650}\" >购 票</a>\\n</div>\\n      <div class=\"movie-ver\"></div>\\n    </div>\\n  \\n  <dd>\\n    <div class=\"movie-item\">\\n      <a href=\"/films/341944\" target=\"_blank\" data-act=\"playingMovie-click\" data-val=\"{movieid:341944}\">\\n      <div class=\"movie-poster\">\\n        <img class=\"poster-default\" src=\"//ms0.meituan.net/mywww/image/loading_2.e3d934bf.png\" />\\n        <img data-src=\"http://p0.meituan.net/movie/eed84f84bdc14294c84d9b1671925a9b4594458.jpg@160w_220h_1e_1c\" />\\n        <div class=\"movie-overlay movie-overlay-bg\">\\n          <div class=\"movie-info\">\\n            <div class=\"movie-score\"><i class=\"integer\">7.</i><i class=\"fraction\">9</i></div>\\n            <div class=\"movie-title movie-title-padding\"\\n              title=\"游侠索罗：星球大战外传\" >游侠索罗：星球大战外传</div>\\n          </div>\\n        </div>\\n      </div>\\n      </a>\\n<div class=\"movie-detail movie-detail-strong movie-sale\">\\n  <a href=\"/cinemas?movieId=341944\"\\n  class=\"active\" target=\"_blank\" data-act=\"salePlayingMovie-click\" data-val=\"{movieid:341944}\" >购 票</a>\\n</div>\\n      <div class=\"movie-ver\"><i class=\"imax3d\"></i></div>\\n    </div>\\n  \\n  <dd>\\n    <div class=\"movie-item\">\\n      <a href=\"/films/1203554\" target=\"_blank\" data-act=\"playingMovie-click\" data-val=\"{movieid:1203554}\">\\n      <div class=\"movie-poster\">\\n        <img class=\"poster-default\" src=\"//ms0.meituan.net/mywww/image/loading_2.e3d934bf.png\" />\\n        <img data-src=\"http://p1.meituan.net/movie/dc07682883ccbcdfb3ae532e2a90d4ff1342251.jpg@160w_220h_1e_1c\" />\\n        <div class=\"movie-overlay movie-overlay-bg\">\\n          <div class=\"movie-info\">\\n            <div class=\"movie-score\"><i class=\"integer\">7.</i><i class=\"fraction\">3</i></div>\\n            <div class=\"movie-title movie-title-padding\"\\n              title=\"寂静之地\" >寂静之地</div>\\n          </div>\\n        </div>\\n      </div>\\n      </a>\\n<div class=\"movie-detail movie-detail-strong movie-sale\">\\n  <a href=\"/cinemas?movieId=1203554\"\\n  class=\"active\" target=\"_blank\" data-act=\"salePlayingMovie-click\" data-val=\"{movieid:1203554}\" >购 票</a>\\n</div>\\n      <div class=\"movie-ver\"></div>\\n    </div>\\n  \\n</dl>\\n\\n\\n    </div>\\n  </div>\\n\\n  <div class=\"panel\">\\n    <div class=\"panel-header\">\\n      <span class=\"panel-more\">\\n        <a href=\"/films?showType=2\" class=\"textcolor_blue\" data-act=\"all-upcomingMovie-click\">\\n          <span>全部</span>\\n        </a>\\n        <span class=\"panel-arrow panel-arrow-blue\"></span>\\n      </span>\\n      <span class=\"panel-title\">\\n        <span class=\"textcolor_blue\">即将上映（279部）</span>\\n      </span>\\n    </div>\\n    <div class=\"panel-content\">\\n            <dl class=\"movie-list\">\\n  <dd>\\n    <div class=\"movie-item\">\\n      <a href=\"/films/1220970\" target=\"_blank\" data-act=\"upcomingMovie-click\" data-val=\"{movieid:1220970}\">\\n      <div class=\"movie-poster\">\\n        <img class=\"poster-default\" src=\"//ms0.meituan.net/mywww/image/loading_2.e3d934bf.png\" />\\n        <img data-src=\"http://p1.meituan.net/movie/5e4882b33053bc210fa05faca3c14c0e247450.jpg@160w_220h_1e_1c\" />\\n        <div class=\"movie-overlay movie-overlay-bg\">\\n          <div class=\"movie-info\">\\n            <div class=\"movie-title\"\\n              title=\"蓝色金鱼\" >蓝色金鱼</div>\\n          </div>\\n        </div>\\n      </div>\\n      </a>\\n<div class=\"movie-detail movie-wish\"><span class=\"stonefont\">&#xf2ed;&#xe18e;&#xe1ad;&#xed18;</span>人想看</div>\\n<div class=\"movie-detail movie-detail-strong movie-presale\">\\n  <a class=\"movie-presale-sep\">预告片\\n  </a><a href=\"/cinemas?movieId=1220970\"\\n  class=\"active\" target=\"_blank\"  data-act=\"presaleUpcomingMovie-click\" data-val=\"{movieid:1220970}\">预 售</a>\\n</div>\\n      <div class=\"movie-ver\"></div>\\n    </div>\\n    <div class=\"movie-detail movie-rt\">6月4日上映</div>\\n  \\n  <dd>\\n    <div class=\"movie-item\">\\n      <a href=\"/films/1215573\" target=\"_blank\" data-act=\"upcomingMovie-click\" data-val=\"{movieid:1215573}\">\\n      <div class=\"movie-poster\">\\n        <img class=\"poster-default\" src=\"//ms0.meituan.net/mywww/image/loading_2.e3d934bf.png\" />\\n        <img data-src=\"http://p1.meituan.net/movie/173aa3cc5c729a6020b32014a60b82a75672295.jpg@160w_220h_1e_1c\" />\\n        <div class=\"movie-overlay movie-overlay-bg\">\\n          <div class=\"movie-info\">\\n            <div class=\"movie-title\"\\n              title=\"暗夜良人\" >暗夜良人</div>\\n          </div>\\n        </div>\\n      </div>\\n      </a>\\n<div class=\"movie-detail movie-wish\"><span class=\"stonefont\">&#xed18;&#xea8c;&#xf771;</span>人想看</div>\\n<div class=\"movie-detail movie-detail-strong movie-presale\">\\n  <a class=\"movie-presale-sep\">预告片\\n  </a><a href=\"/cinemas?movieId=1215573\"\\n  class=\"active\" target=\"_blank\"  data-act=\"presaleUpcomingMovie-click\" data-val=\"{movieid:1215573}\">预 售</a>\\n</div>\\n      <div class=\"movie-ver\"></div>\\n    </div>\\n    <div class=\"movie-detail movie-rt\">6月6日上映</div>\\n  \\n  <dd>\\n    <div class=\"movie-item\">\\n      <a href=\"/films/1200045\" target=\"_blank\" data-act=\"upcomingMovie-click\" data-val=\"{movieid:1200045}\">\\n      <div class=\"movie-poster\">\\n        <img class=\"poster-default\" src=\"//ms0.meituan.net/mywww/image/loading_2.e3d934bf.png\" />\\n        <img data-src=\"http://p0.meituan.net/movie/200526fd0facc141caeef984314f7ef8328722.jpg@160w_220h_1e_1c\" />\\n        <div class=\"movie-overlay movie-overlay-bg\">\\n          <div class=\"movie-info\">\\n            <div class=\"movie-title\"\\n              title=\"深海越狱\" >深海越狱</div>\\n          </div>\\n        </div>\\n      </div>\\n      </a>\\n<div class=\"movie-detail movie-wish\"><span class=\"stonefont\">&#xed18;&#xee4d;&#xeb80;&#xe55d;&#xe18e;</span>人想看</div>\\n<div class=\"movie-detail movie-detail-strong movie-presale\">\\n  <a class=\"movie-presale-sep\">预告片\\n  </a><a href=\"/cinemas?movieId=1200045\"\\n  class=\"active\" target=\"_blank\"  data-act=\"presaleUpcomingMovie-click\" data-val=\"{movieid:1200045}\">预 售</a>\\n</div>\\n      <div class=\"movie-ver\"></div>\\n    </div>\\n    <div class=\"movie-detail movie-rt\">6月8日上映</div>\\n  \\n  <dd>\\n    <div class=\"movie-item\">\\n      <a href=\"/films/672164\" target=\"_blank\" data-act=\"upcomingMovie-click\" data-val=\"{movieid:672164}\">\\n      <div class=\"movie-poster\">\\n        <img class=\"poster-default\" src=\"//ms0.meituan.net/mywww/image/loading_2.e3d934bf.png\" />\\n        <img data-src=\"http://p1.meituan.net/movie/63aafb487fb6645e2a3521fce6922de5906570.jpg@160w_220h_1e_1c\" />\\n        <div class=\"movie-overlay movie-overlay-bg\">\\n          <div class=\"movie-info\">\\n            <div class=\"movie-title\"\\n              title=\"幸福马上来\" >幸福马上来</div>\\n          </div>\\n        </div>\\n      </div>\\n      </a>\\n<div class=\"movie-detail movie-wish\"><span class=\"stonefont\">&#xf2ed;&#xed18;&#xe18e;&#xeb80;&#xee4d;</span>人想看</div>\\n<div class=\"movie-detail movie-detail-strong movie-presale\">\\n  <a class=\"movie-presale-sep\">预告片\\n  </a><a href=\"/cinemas?movieId=672164\"\\n  class=\"active\" target=\"_blank\"  data-act=\"presaleUpcomingMovie-click\" data-val=\"{movieid:672164}\">预 售</a>\\n</div>\\n      <div class=\"movie-ver\"></div>\\n    </div>\\n    <div class=\"movie-detail movie-rt\">6月8日上映</div>\\n  \\n  <dd>\\n    <div class=\"movie-item\">\\n      <a href=\"/films/1182289\" target=\"_blank\" data-act=\"upcomingMovie-click\" data-val=\"{movieid:1182289}\">\\n      <div class=\"movie-poster\">\\n        <img class=\"poster-default\" src=\"//ms0.meituan.net/mywww/image/loading_2.e3d934bf.png\" />\\n        <img data-src=\"http://p0.meituan.net/movie/88ed4e34107a963df120d562d201d43077447.jpg@160w_220h_1e_1c\" />\\n        <div class=\"movie-overlay movie-overlay-bg\">\\n          <div class=\"movie-info\">\\n            <div class=\"movie-title\"\\n              title=\"一纸婚约\" >一纸婚约</div>\\n          </div>\\n        </div>\\n      </div>\\n      </a>\\n<div class=\"movie-detail movie-wish\"><span class=\"stonefont\">&#xf2ed;&#xe55d;&#xf2ed;&#xf771;&#xe47a;</span>人想看</div>\\n<div class=\"movie-detail movie-detail-strong movie-presale\">\\n  <a class=\"movie-presale-sep\">预告片\\n  </a><a href=\"/cinemas?movieId=1182289\"\\n  class=\"active\" target=\"_blank\"  data-act=\"presaleUpcomingMovie-click\" data-val=\"{movieid:1182289}\">预 售</a>\\n</div>\\n      <div class=\"movie-ver\"></div>\\n    </div>\\n    <div class=\"movie-detail movie-rt\">6月8日上映</div>\\n  \\n  <dd>\\n    <div class=\"movie-item\">\\n      <a href=\"/films/1199331\" target=\"_blank\" data-act=\"upcomingMovie-click\" data-val=\"{movieid:1199331}\">\\n      <div class=\"movie-poster\">\\n        <img class=\"poster-default\" src=\"//ms0.meituan.net/mywww/image/loading_2.e3d934bf.png\" />\\n        <img data-src=\"http://p1.meituan.net/movie/eaa77fca9758d492f029170cbba06d7f209989.jpg@160w_220h_1e_1c\" />\\n        <div class=\"movie-overlay movie-overlay-bg\">\\n          <div class=\"movie-info\">\\n            <div class=\"movie-title\"\\n              title=\"厕所英雄\" >厕所英雄</div>\\n          </div>\\n        </div>\\n      </div>\\n      </a>\\n<div class=\"movie-detail movie-wish\"><span class=\"stonefont\">&#xed18;&#xf771;&#xe47a;&#xed18;</span>人想看</div>\\n<div class=\"movie-detail movie-detail-strong movie-presale\">\\n  <a class=\"movie-presale-sep\">预告片\\n  </a><a href=\"/cinemas?movieId=1199331\"\\n  class=\"active\" target=\"_blank\"  data-act=\"presaleUpcomingMovie-click\" data-val=\"{movieid:1199331}\">预 售</a>\\n</div>\\n      <div class=\"movie-ver\"></div>\\n    </div>\\n    <div class=\"movie-detail movie-rt\">6月8日上映</div>\\n  \\n  <dd>\\n    <div class=\"movie-item\">\\n      <a href=\"/films/1220908\" target=\"_blank\" data-act=\"upcomingMovie-click\" data-val=\"{movieid:1220908}\">\\n      <div class=\"movie-poster\">\\n        <img class=\"poster-default\" src=\"//ms0.meituan.net/mywww/image/loading_2.e3d934bf.png\" />\\n        <img data-src=\"http://p0.meituan.net/movie/6f2b1b83b512d8ec417efdf09d34faa3316513.jpg@160w_220h_1e_1c\" />\\n        <div class=\"movie-overlay movie-overlay-bg\">\\n          <div class=\"movie-info\">\\n            <div class=\"movie-title\"\\n              title=\"恐怖浴室\" >恐怖浴室</div>\\n          </div>\\n        </div>\\n      </div>\\n      </a>\\n<div class=\"movie-detail movie-wish\"><span class=\"stonefont\">&#xea8c;&#xee4d;&#xeb80;&#xea8c;</span>人想看</div>\\n<div class=\"movie-detail movie-detail-strong movie-presale\">\\n  <a class=\"movie-presale-sep\">预告片\\n  </a><a href=\"/cinemas?movieId=1220908\"\\n  class=\"active\" target=\"_blank\"  data-act=\"presaleUpcomingMovie-click\" data-val=\"{movieid:1220908}\">预 售</a>\\n</div>\\n      <div class=\"movie-ver\"></div>\\n    </div>\\n    <div class=\"movie-detail movie-rt\">6月8日上映</div>\\n  \\n  <dd>\\n    <div class=\"movie-item\">\\n      <a href=\"/films/344516\" target=\"_blank\" data-act=\"upcomingMovie-click\" data-val=\"{movieid:344516}\">\\n      <div class=\"movie-poster\">\\n        <img class=\"poster-default\" src=\"//ms0.meituan.net/mywww/image/loading_2.e3d934bf.png\" />\\n        <img data-src=\"http://p0.meituan.net/movie/7e1f6616b82f532e167a730452c90b9d653258.png@160w_220h_1e_1c\" />\\n        <div class=\"movie-overlay movie-overlay-bg\">\\n          <div class=\"movie-info\">\\n            <div class=\"movie-title\"\\n              title=\"盯上小偷的贼\" >盯上小偷的贼</div>\\n          </div>\\n        </div>\\n      </div>\\n      </a>\\n<div class=\"movie-detail movie-wish\"><span class=\"stonefont\">&#xeb80;&#xea8c;&#xe55d;&#xee4d;</span>人想看</div>\\n<div class=\"movie-detail movie-detail-strong movie-presale\">\\n  <a class=\"movie-presale-sep\">预告片\\n  </a><a  data-act=\"presaleUpcomingMovie-click\" data-val=\"{movieid:344516}\">预 售</a>\\n</div>\\n      <div class=\"movie-ver\"></div>\\n    </div>\\n    <div class=\"movie-detail movie-rt\">6月8日上映</div>\\n  \\n</dl>\\n\\n\\n    </div>\\n  </div>\\n\\n  <div class=\"panel\">\\n    <div class=\"panel-header\">\\n      <span class=\"panel-more\">\\n        <a href=\"/films?isPlay=1\" class=\"textcolor_red\" data-act=\"all-hotMovie-click\">\\n          <span>全部</span>\\n        </a>\\n        <span class=\"panel-arrow panel-arrow-red\"></span>\\n      </span>\\n      <span class=\"panel-title\">\\n        <span class=\"textcolor_red\">热播电影</span>\\n      </span>\\n      <span class=\"panel-subtitle\">\\n        <a href=\"/films?isPlay=1&catId=3\" data-act=\"tag-hotMovie-click\" data-val=\"{TagName:\\'爱情\\'}\">爱情</a>\\n      </span>      <span class=\"panel-subtitle\">\\n        <a href=\"/films?isPlay=1&catId=2\" data-act=\"tag-hotMovie-click\" data-val=\"{TagName:\\'喜剧\\'}\">喜剧</a>\\n      </span>      <span class=\"panel-subtitle\">\\n        <a href=\"/films?isPlay=1&catId=5\" data-act=\"tag-hotMovie-click\" data-val=\"{TagName:\\'动作\\'}\">动作</a>\\n      </span>      <span class=\"panel-subtitle\">\\n        <a href=\"/films?isPlay=1&catId=6\" data-act=\"tag-hotMovie-click\" data-val=\"{TagName:\\'恐怖\\'}\">恐怖</a>\\n      </span>      <span class=\"panel-subtitle\">\\n        <a href=\"/films?isPlay=1&catId=4\" data-act=\"tag-hotMovie-click\" data-val=\"{TagName:\\'动画\\'}\">动画</a>\\n      </span>    </div>\\n    <div class=\"panel-content\">\\n            <dl class=\"movie-list\">\\n  <dd>\\n    <div class=\"movie-item\">\\n      <a href=\"/films/78197\" target=\"_blank\" data-act=\"hotMovie-click\" data-val=\"{movieid:78197}\">\\n      <div class=\"movie-poster movie-poster-long\">\\n        <img class=\"poster-default\" src=\"//ms0.meituan.net/mywww/image/loading_2.e3d934bf.png\" />\\n        <img data-src=\"http://p1.meituan.net/movie/__24219255__5321011.jpg@350w_220h_1e_1c\" />\\n        <div class=\"movie-overlay movie-overlay-bg\">\\n          <div class=\"movie-info\">\\n            <div class=\"movie-score\"><i class=\"integer\">7.</i><i class=\"fraction\">9</i></div>\\n            <div class=\"movie-title movie-title-padding\"\\n              title=\"窃听风云3\" >窃听风云3</div>\\n          </div>\\n        </div>\\n      </div>\\n      </a>\\n      <div class=\"movie-ver\"></div>\\n    </div>\\n  \\n  <dd>\\n    <div class=\"movie-item\">\\n      <a href=\"/films/14391\" target=\"_blank\" data-act=\"hotMovie-click\" data-val=\"{movieid:14391}\">\\n      <div class=\"movie-poster\">\\n        <img class=\"poster-default\" src=\"//ms0.meituan.net/mywww/image/loading_2.e3d934bf.png\" />\\n        <img data-src=\"http://p1.meituan.net/movie/c410dfa344c32ec52046b93ec70f615894818.jpg@160w_220h_1e_1c\" />\\n        <div class=\"movie-overlay movie-overlay-bg\">\\n          <div class=\"movie-info\">\\n            <div class=\"movie-score\"><i class=\"integer\">8.</i><i class=\"fraction\">8</i></div>\\n            <div class=\"movie-title movie-title-padding\"\\n              title=\"旋风小子\" >旋风小子</div>\\n          </div>\\n        </div>\\n      </div>\\n      </a>\\n      <div class=\"movie-ver\"></div>\\n    </div>\\n  \\n  <dd>\\n    <div class=\"movie-item\">\\n      <a href=\"/films/78812\" target=\"_blank\" data-act=\"hotMovie-click\" data-val=\"{movieid:78812}\">\\n      <div class=\"movie-poster\">\\n        <img class=\"poster-default\" src=\"//ms0.meituan.net/mywww/image/loading_2.e3d934bf.png\" />\\n        <img data-src=\"http://p0.meituan.net/movie/__36827568__2509248.jpg@160w_220h_1e_1c\" />\\n        <div class=\"movie-overlay movie-overlay-bg\">\\n          <div class=\"movie-info\">\\n            <div class=\"movie-score\"><i class=\"integer\">8.</i><i class=\"fraction\">4</i></div>\\n            <div class=\"movie-title movie-title-padding\"\\n              title=\"为奴十二载\" >为奴十二载</div>\\n          </div>\\n        </div>\\n      </div>\\n      </a>\\n      <div class=\"movie-ver\"></div>\\n    </div>\\n  \\n  <dd>\\n    <div class=\"movie-item\">\\n      <a href=\"/films/78790\" target=\"_blank\" data-act=\"hotMovie-click\" data-val=\"{movieid:78790}\">\\n      <div class=\"movie-poster\">\\n        <img class=\"poster-default\" src=\"//ms0.meituan.net/mywww/image/loading_2.e3d934bf.png\" />\\n        <img data-src=\"http://p1.meituan.net/movie/__35965556__6833914.jpg@160w_220h_1e_1c\" />\\n        <div class=\"movie-overlay movie-overlay-bg\">\\n          <div class=\"movie-info\">\\n            <div class=\"movie-score\"><i class=\"integer\">6.</i><i class=\"fraction\">3</i></div>\\n            <div class=\"movie-title movie-title-padding\"\\n              title=\"六颗子弹\" >六颗子弹</div>\\n          </div>\\n        </div>\\n      </div>\\n      </a>\\n      <div class=\"movie-ver\"></div>\\n    </div>\\n  \\n  <dd>\\n    <div class=\"movie-item\">\\n      <a href=\"/films/78065\" target=\"_blank\" data-act=\"hotMovie-click\" data-val=\"{movieid:78065}\">\\n      <div class=\"movie-poster\">\\n        <img class=\"poster-default\" src=\"//ms0.meituan.net/mywww/image/loading_2.e3d934bf.png\" />\\n        <img data-src=\"http://p0.meituan.net/movie/__11691262__6664179.jpg@160w_220h_1e_1c\" />\\n        <div class=\"movie-overlay movie-overlay-bg\">\\n          <div class=\"movie-info\">\\n            <div class=\"movie-score\"><i class=\"integer\">8.</i><i class=\"fraction\">6</i></div>\\n            <div class=\"movie-title movie-title-padding\"\\n              title=\"致命黑兰\" >致命黑兰</div>\\n          </div>\\n        </div>\\n      </div>\\n      </a>\\n      <div class=\"movie-ver\"></div>\\n    </div>\\n  \\n  <dd>\\n    <div class=\"movie-item\">\\n      <a href=\"/films/78086\" target=\"_blank\" data-act=\"hotMovie-click\" data-val=\"{movieid:78086}\">\\n      <div class=\"movie-poster\">\\n        <img class=\"poster-default\" src=\"//ms0.meituan.net/mywww/image/loading_2.e3d934bf.png\" />\\n        <img data-src=\"http://p0.meituan.net/movie/__6675383__5363330.jpg@160w_220h_1e_1c\" />\\n        <div class=\"movie-overlay movie-overlay-bg\">\\n          <div class=\"movie-info\">\\n            <div class=\"movie-score\"><i class=\"integer\">7.</i><i class=\"fraction\">3</i></div>\\n            <div class=\"movie-title movie-title-padding\"\\n              title=\"金太狼的幸福生活\" >金太狼的幸福生活</div>\\n          </div>\\n        </div>\\n      </div>\\n      </a>\\n      <div class=\"movie-ver\"></div>\\n    </div>\\n  \\n  <dd>\\n    <div class=\"movie-item\">\\n      <a href=\"/films/246358\" target=\"_blank\" data-act=\"hotMovie-click\" data-val=\"{movieid:246358}\">\\n      <div class=\"movie-poster\">\\n        <img class=\"poster-default\" src=\"//ms0.meituan.net/mywww/image/loading_2.e3d934bf.png\" />\\n        <img data-src=\"http://p1.meituan.net/movie/cb72d008657821226e4d44ff08f900bb299751.jpg@160w_220h_1e_1c\" />\\n        <div class=\"movie-overlay movie-overlay-bg\">\\n          <div class=\"movie-info\">\\n            <div class=\"movie-score\"><i class=\"integer\">5.</i><i class=\"fraction\">1</i></div>\\n            <div class=\"movie-title movie-title-padding\"\\n              title=\"魔镜\" >魔镜</div>\\n          </div>\\n        </div>\\n      </div>\\n      </a>\\n      <div class=\"movie-ver\"><i class=\"m3d\"></i></div>\\n    </div>\\n  \\n</dl>\\n\\n\\n    </div>\\n  </div>\\n    </div>\\n  </div>\\n</div>\\n\\n    </div>\\n<div class=\"footer\">\\n    <p class=\"friendly-links\">\\n      违法和不良信息举报电话: 4006018900\\n      举报邮箱: jubao.maoyan@maoyan.com \\n    </p>\\n    <p class=\"friendly-links\">\\n        友情链接 :\\n        <a href=\"http://www.meituan.com\" data-query=\"utm_source=wwwmaoyan\" target=\"_blank\">美团网</a>\\n        <span></span>\\n        <a href=\"http://i.meituan.com/client\" data-query=\"utm_source=wwwmaoyan\" target=\"_blank\">美团下载</a>\\n    </p>\\n    <p>\\n        &copy;2016\\n        猫眼电影 maoyan.com\\n        <a href=\"https://tsm.miit.gov.cn/pages/EnterpriseSearchList_Portal.aspx?type=0&keyword=京ICP证160733号&pageNo=1\" target=\"_blank\">京ICP证160733号</a>\\n        <a href=\"http://www.miibeian.gov.cn\" target=\"_blank\">京ICP备16022489号-1</a>\\n        京公网安备 11010502030881号\\n        <a href=\"/about/licence\" target=\"_blank\">网络文化经营许可证</a>\\n        <a href=\"http://www.meituan.com/about/rules\" target=\"_blank\">电子公告服务规则</a>\\n    </p>\\n    <p>北京猫眼文化传媒有限公司</p>\\n</div>\\n\\n    <!--[if IE 8]><script src=\"//ms0.meituan.net/mywww/es5-shim.bbad933f.js\"></script><![endif]-->\\n    <!--[if IE 8]><script src=\"//ms0.meituan.net/mywww/es5-sham.d6ea26f4.js\"></script><![endif]-->\\n    <script src=\"//ms0.meituan.net/mywww/common.dc33ab40.js\"></script>\\n<script src=\"//ms0.meituan.net/mywww/home-index.dba25347.js\"></script>\\n</body>\\n</html>\\n'"
      ]
     },
     "execution_count": 37,
     "metadata": {},
     "output_type": "execute_result"
    }
   ],
   "source": [
    "res.text"
   ]
  },
  {
   "cell_type": "code",
   "execution_count": 38,
   "metadata": {},
   "outputs": [
    {
     "data": {
      "text/plain": [
       "'/home/wangf/PycharmProjects/scrapy_projects/maoyan'"
      ]
     },
     "execution_count": 38,
     "metadata": {},
     "output_type": "execute_result"
    }
   ],
   "source": [
    "pwd"
   ]
  },
  {
   "cell_type": "code",
   "execution_count": 39,
   "metadata": {},
   "outputs": [
    {
     "name": "stdout",
     "output_type": "stream",
     "text": [
      "debug.py  \u001b[0m\u001b[01;34mmaoyan\u001b[0m/  proxies.txt  scrapy.cfg  Untitled.ipynb\r\n"
     ]
    }
   ],
   "source": [
    "ls"
   ]
  },
  {
   "cell_type": "code",
   "execution_count": 40,
   "metadata": {},
   "outputs": [],
   "source": [
    "with open('proxies.txt', 'r') as fp:\n",
    "    ct = fp.read()"
   ]
  },
  {
   "cell_type": "code",
   "execution_count": 41,
   "metadata": {},
   "outputs": [
    {
     "data": {
      "text/plain": [
       "'https://188.211.227.149:53281\\nhttps://188.213.174.124:8888\\nhttps://202.162.203.175:8080\\nhttps://212.200.27.134:8080\\nhttps://223.166.87.113:8060\\nhttps://223.199.185.8:53281\\nhttps://45.125.221.15:8080\\nhttps://37.1.213.59:1490\\nhttps://60.177.226.109:18118\\nhttps://60.177.227.225:18118\\nhttps://60.168.207.228:18118\\nhttps://82.206.132.106:3128\\nhttps://85.199.71.97:8080\\nhttps://91.102.155.155:3128\\nhttps://103.16.46.77:65103\\nhttps://103.30.245.89:3128\\nhttps://109.197.188.36:8080\\nhttps://112.199.90.125:8080\\nhttps://114.234.82.114:9000'"
      ]
     },
     "execution_count": 41,
     "metadata": {},
     "output_type": "execute_result"
    }
   ],
   "source": [
    "ct"
   ]
  },
  {
   "cell_type": "code",
   "execution_count": 42,
   "metadata": {},
   "outputs": [
    {
     "name": "stdout",
     "output_type": "stream",
     "text": [
      "/home/wangf/PycharmProjects/scrapy_projects/maoyan/maoyan\n"
     ]
    }
   ],
   "source": [
    "cd maoyan/"
   ]
  },
  {
   "cell_type": "code",
   "execution_count": 43,
   "metadata": {},
   "outputs": [
    {
     "ename": "FileNotFoundError",
     "evalue": "[Errno 2] No such file or directory: 'proxies.txt'",
     "output_type": "error",
     "traceback": [
      "\u001b[0;31m---------------------------------------------------------------------------\u001b[0m",
      "\u001b[0;31mFileNotFoundError\u001b[0m                         Traceback (most recent call last)",
      "\u001b[0;32m<ipython-input-43-5a31dfb229f4>\u001b[0m in \u001b[0;36m<module>\u001b[0;34m()\u001b[0m\n\u001b[0;32m----> 1\u001b[0;31m \u001b[0;32mwith\u001b[0m \u001b[0mopen\u001b[0m\u001b[0;34m(\u001b[0m\u001b[0;34m'proxies.txt'\u001b[0m\u001b[0;34m,\u001b[0m \u001b[0;34m'r'\u001b[0m\u001b[0;34m)\u001b[0m \u001b[0;32mas\u001b[0m \u001b[0mfp\u001b[0m\u001b[0;34m:\u001b[0m\u001b[0;34m\u001b[0m\u001b[0m\n\u001b[0m\u001b[1;32m      2\u001b[0m     \u001b[0mct\u001b[0m \u001b[0;34m=\u001b[0m \u001b[0mfp\u001b[0m\u001b[0;34m.\u001b[0m\u001b[0mread\u001b[0m\u001b[0;34m(\u001b[0m\u001b[0;34m)\u001b[0m\u001b[0;34m\u001b[0m\u001b[0m\n",
      "\u001b[0;31mFileNotFoundError\u001b[0m: [Errno 2] No such file or directory: 'proxies.txt'"
     ]
    }
   ],
   "source": [
    "with open('proxies.txt', 'r') as fp:\n",
    "    ct = fp.read()"
   ]
  },
  {
   "cell_type": "code",
   "execution_count": 44,
   "metadata": {},
   "outputs": [],
   "source": [
    "with open('../proxies.txt', 'r') as fp:\n",
    "    ct = fp.read()"
   ]
  },
  {
   "cell_type": "code",
   "execution_count": 45,
   "metadata": {},
   "outputs": [
    {
     "data": {
      "text/plain": [
       "'https://188.211.227.149:53281\\nhttps://188.213.174.124:8888\\nhttps://202.162.203.175:8080\\nhttps://212.200.27.134:8080\\nhttps://223.166.87.113:8060\\nhttps://223.199.185.8:53281\\nhttps://45.125.221.15:8080\\nhttps://37.1.213.59:1490\\nhttps://60.177.226.109:18118\\nhttps://60.177.227.225:18118\\nhttps://60.168.207.228:18118\\nhttps://82.206.132.106:3128\\nhttps://85.199.71.97:8080\\nhttps://91.102.155.155:3128\\nhttps://103.16.46.77:65103\\nhttps://103.30.245.89:3128\\nhttps://109.197.188.36:8080\\nhttps://112.199.90.125:8080\\nhttps://114.234.82.114:9000'"
      ]
     },
     "execution_count": 45,
     "metadata": {},
     "output_type": "execute_result"
    }
   ],
   "source": [
    "ct"
   ]
  },
  {
   "cell_type": "code",
   "execution_count": 46,
   "metadata": {},
   "outputs": [
    {
     "data": {
      "text/plain": [
       "'/home/wangf/PycharmProjects/scrapy_projects/maoyan/maoyan'"
      ]
     },
     "execution_count": 46,
     "metadata": {},
     "output_type": "execute_result"
    }
   ],
   "source": [
    "pwd"
   ]
  },
  {
   "cell_type": "code",
   "execution_count": 47,
   "metadata": {},
   "outputs": [
    {
     "name": "stdout",
     "output_type": "stream",
     "text": [
      "__init__.py  middlewares.py  \u001b[0m\u001b[01;34m__pycache__\u001b[0m/  \u001b[01;34mspiders\u001b[0m/\r\n",
      "items.py     pipelines.py    settings.py\r\n"
     ]
    }
   ],
   "source": [
    "ls"
   ]
  },
  {
   "cell_type": "code",
   "execution_count": 48,
   "metadata": {},
   "outputs": [
    {
     "ename": "NameError",
     "evalue": "name 'self' is not defined",
     "output_type": "error",
     "traceback": [
      "\u001b[0;31m---------------------------------------------------------------------------\u001b[0m",
      "\u001b[0;31mNameError\u001b[0m                                 Traceback (most recent call last)",
      "\u001b[0;32m<ipython-input-48-8631527c1187>\u001b[0m in \u001b[0;36m<module>\u001b[0;34m()\u001b[0m\n\u001b[1;32m      1\u001b[0m \u001b[0mseed_url\u001b[0m \u001b[0;34m=\u001b[0m \u001b[0;34m'http://maoyan.com/board/4?offset='\u001b[0m\u001b[0;34m\u001b[0m\u001b[0m\n\u001b[0;32m----> 2\u001b[0;31m \u001b[0mself\u001b[0m\u001b[0;34m.\u001b[0m\u001b[0moffset\u001b[0m \u001b[0;34m=\u001b[0m \u001b[0mself\u001b[0m\u001b[0;34m.\u001b[0m\u001b[0moffset\u001b[0m \u001b[0;34m+\u001b[0m \u001b[0;36m10\u001b[0m\u001b[0;34m\u001b[0m\u001b[0m\n\u001b[0m\u001b[1;32m      3\u001b[0m \u001b[0;32mif\u001b[0m \u001b[0mself\u001b[0m\u001b[0;34m.\u001b[0m\u001b[0moffset\u001b[0m \u001b[0;34m<\u001b[0m \u001b[0;36m100\u001b[0m\u001b[0;34m:\u001b[0m\u001b[0;34m\u001b[0m\u001b[0m\n\u001b[1;32m      4\u001b[0m     \u001b[0mnext_page\u001b[0m \u001b[0;34m=\u001b[0m \u001b[0murljoin\u001b[0m\u001b[0;34m(\u001b[0m\u001b[0mseed_url\u001b[0m\u001b[0;34m,\u001b[0m \u001b[0mstr\u001b[0m\u001b[0;34m(\u001b[0m\u001b[0mself\u001b[0m\u001b[0;34m.\u001b[0m\u001b[0moffset\u001b[0m\u001b[0;34m)\u001b[0m\u001b[0;34m)\u001b[0m\u001b[0;34m\u001b[0m\u001b[0m\n\u001b[1;32m      5\u001b[0m     \u001b[0mprint\u001b[0m\u001b[0;34m(\u001b[0m\u001b[0mnext_page\u001b[0m\u001b[0;34m)\u001b[0m\u001b[0;34m\u001b[0m\u001b[0m\n",
      "\u001b[0;31mNameError\u001b[0m: name 'self' is not defined"
     ]
    }
   ],
   "source": [
    "seed_url = 'http://maoyan.com/board/4?offset='\n",
    "self.offset = self.offset + 10\n",
    "if self.offset < 100:\n",
    "    next_page = urljoin(seed_url, str(self.offset))\n",
    "    print(next_page)"
   ]
  },
  {
   "cell_type": "code",
   "execution_count": 49,
   "metadata": {},
   "outputs": [],
   "source": [
    "seed_url = 'http://maoyan.com/board/4?offset='\n",
    "offset = 0"
   ]
  },
  {
   "cell_type": "code",
   "execution_count": null,
   "metadata": {},
   "outputs": [],
   "source": [
    "while True:\n",
    "    offset = offset + 10\n",
    "    if self.offset < 100:\n",
    "        next_page = urljoin(seed_url, str(self.offset))\n",
    "        print(next_page)\n",
    "    else:\n",
    "        break"
   ]
  }
 ],
 "metadata": {
  "kernelspec": {
   "display_name": "Python 3",
   "language": "python",
   "name": "python3"
  },
  "language_info": {
   "codemirror_mode": {
    "name": "ipython",
    "version": 3
   },
   "file_extension": ".py",
   "mimetype": "text/x-python",
   "name": "python",
   "nbconvert_exporter": "python",
   "pygments_lexer": "ipython3",
   "version": "3.5.2"
  }
 },
 "nbformat": 4,
 "nbformat_minor": 2
}
